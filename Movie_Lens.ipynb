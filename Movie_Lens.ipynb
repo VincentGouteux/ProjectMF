{
 "cells": [
  {
   "cell_type": "code",
   "execution_count": 1,
   "metadata": {
    "autoscroll": false,
    "ein.hycell": false,
    "ein.tags": "worksheet-0",
    "slideshow": {
     "slide_type": "-"
    }
   },
   "outputs": [],
   "source": [
    "import pandas as pd\n",
    "import numpy as np\n",
    "import matplotlib.pyplot as plt\n",
    "import os"
   ]
  },
  {
   "cell_type": "code",
   "execution_count": 2,
   "metadata": {
    "autoscroll": false,
    "ein.hycell": false,
    "ein.tags": "worksheet-0",
    "slideshow": {
     "slide_type": "-"
    }
   },
   "outputs": [],
   "source": [
    "ratings = pd.read_csv('ratings.csv', usecols=['userId', 'movieId', 'rating'])\n",
    "movies = pd.read_csv('movies.csv')"
   ]
  },
  {
   "cell_type": "markdown",
   "metadata": {},
   "source": [
    "# Gradient descent without regularization"
   ]
  },
  {
   "cell_type": "code",
   "execution_count": 23,
   "metadata": {},
   "outputs": [],
   "source": [
    "def gradientDescent(R, U, V, alpha, lambdaReg, muReg, nFeatures):\n",
    "    for i in range(R.shape[0]):\n",
    "        for j in range(R.shape[1]):\n",
    "            if R[i, j] > 0:\n",
    "                r_hat_ij = np.dot(U[i, :], V.T[:, j])\n",
    "                eij = R[i, j] - r_hat_ij\n",
    "                for q in range(nFeatures):\n",
    "                    U[i, q] = U[i, q] + alpha * eij * V[j, q]\n",
    "                    V[j, q] = V[j, q] + alpha * eij * U[i, q]\n",
    "    return U, V\n",
    "\n",
    "def computeTotalError(R, U, V):\n",
    "    error = 0\n",
    "    for i in range(R.shape[0]):\n",
    "        for j in range(R.shape[1]):\n",
    "            if R[i, j] > 0:\n",
    "                error += R[i, j] - np.dot(U[i, :], V.T[:, j])\n",
    "    return error\n",
    "\n",
    "\n",
    "def computeApproximatedMatrix(U, V):\n",
    "    return np.dot(U, V.T)"
   ]
  },
  {
   "cell_type": "code",
   "execution_count": 39,
   "metadata": {},
   "outputs": [],
   "source": [
    "R = np.array([\n",
    "    [5, 3, 0, 1],\n",
    "    [4, 0, 0, 1],\n",
    "    [1, 1, 0, 5],\n",
    "    [1, 0, 0, 4],\n",
    "    [0, 1, 5, 4],\n",
    "])\n",
    "\n",
    "nFeatures = 2\n",
    "nUsers, nItems = R.shape\n",
    "alpha = 0.01\n",
    "lambdaReg = 0\n",
    "muReg = 0\n",
    "nIterations = 10000"
   ]
  },
  {
   "cell_type": "code",
   "execution_count": 40,
   "metadata": {},
   "outputs": [
    {
     "name": "stdout",
     "output_type": "stream",
     "text": [
      "Iteration 9 - error: 22.923087350520046\n",
      "Iteration 19 - error: 8.530770523308263\n",
      "Iteration 29 - error: 2.0406077564068044\n",
      "Iteration 39 - error: 0.4536291391178787\n",
      "Iteration 49 - error: 0.14157982379731648\n",
      "Iteration 59 - error: 0.10522317461876496\n",
      "Iteration 69 - error: 0.12176059709741383\n",
      "Iteration 79 - error: 0.14000149262711015\n",
      "Iteration 89 - error: 0.15040084428076672\n",
      "Iteration 99 - error: 0.15354181485197538\n",
      "Iteration 109 - error: 0.15170011349711932\n",
      "Iteration 119 - error: 0.14681255757452472\n",
      "Iteration 129 - error: 0.14020693177042842\n",
      "Iteration 139 - error: 0.13272915636505533\n",
      "Iteration 149 - error: 0.1249029053816878\n",
      "Iteration 159 - error: 0.11704792976568723\n",
      "Iteration 169 - error: 0.10935692488074955\n",
      "Iteration 179 - error: 0.10194335504995367\n",
      "Iteration 189 - error: 0.09487092815387133\n",
      "Iteration 199 - error: 0.088171862124795\n",
      "Iteration 209 - error: 0.08185834456726038\n",
      "Iteration 219 - error: 0.075929827736812\n",
      "Iteration 229 - error: 0.07037774035392608\n",
      "Iteration 239 - error: 0.06518857060127903\n",
      "Iteration 249 - error: 0.06034590421070851\n",
      "Iteration 259 - error: 0.055831780861159364\n",
      "Iteration 269 - error: 0.051627598868623004\n",
      "Iteration 279 - error: 0.04771471641518654\n",
      "Iteration 289 - error: 0.04407484655375615\n",
      "Iteration 299 - error: 0.040690310820634235\n",
      "Iteration 309 - error: 0.03754419533407671\n",
      "Iteration 319 - error: 0.03462043947117721\n",
      "Iteration 329 - error: 0.03190387799539107\n",
      "Iteration 339 - error: 0.029380251244996325\n",
      "Iteration 349 - error: 0.02703619368095056\n",
      "Iteration 359 - error: 0.024859208086319584\n",
      "Iteration 369 - error: 0.022837630591770686\n",
      "Iteration 379 - error: 0.02096059019612473\n",
      "Iteration 389 - error: 0.019217965374092705\n",
      "Iteration 399 - error: 0.017600339588101366\n",
      "Iteration 409 - error: 0.016098956961836608\n",
      "Iteration 419 - error: 0.014705678969054836\n",
      "Iteration 429 - error: 0.01341294269876614\n",
      "Iteration 439 - error: 0.012213721047683923\n",
      "Iteration 449 - error: 0.011101485039668457\n",
      "Iteration 459 - error: 0.010070168364831544\n",
      "Iteration 469 - error: 0.009114134155214115\n",
      "Iteration 479 - error: 0.008228143962360157\n",
      "Iteration 489 - error: 0.007407328866878005\n",
      "Iteration 499 - error: 0.006647162627849368\n",
      "Iteration 509 - error: 0.005943436766231991\n",
      "Iteration 519 - error: 0.005292237469770256\n",
      "Iteration 529 - error: 0.004689924204262175\n",
      "Iteration 539 - error: 0.004133109916880873\n",
      "Iteration 549 - error: 0.003618642720431109\n",
      "Iteration 559 - error: 0.003143588951637799\n",
      "Iteration 569 - error: 0.002705217502050994\n",
      "Iteration 579 - error: 0.00230098532584444\n",
      "Iteration 589 - error: 0.0019285240350735977\n",
      "Iteration 599 - error: 0.001585627498477904\n",
      "Iteration 609 - error: 0.001270240366526565\n",
      "Iteration 619 - error: 0.000980447450659061\n",
      "Iteration 629 - error: 0.0007144638901043221\n",
      "Iteration 639 - error: 0.0004706260451401434\n",
      "Iteration 649 - error: 0.0002473830600399074\n"
     ]
    }
   ],
   "source": [
    "U = np.random.normal(size=(nUsers, nFeatures))\n",
    "V = np.random.normal(size=(nItems, nFeatures))\n",
    "# U = np.random.randint(0, 5, size=(nUsers, nFeatures))\n",
    "# V = np.random.randint(0, 5, size=(nItems, nFeatures))\n",
    "\n",
    "for iIter in range(nIterations):\n",
    "    U, V = gradientDescent(R, U, V, alpha, lambdaReg, muReg, nFeatures)\n",
    "    error = computeTotalError(R, U, V)\n",
    "    if (iIter + 1) % 10 == 0:\n",
    "        print(\"Iteration\", iIter, \"- error:\", error)\n",
    "    if error < 0.0001:\n",
    "        break"
   ]
  },
  {
   "cell_type": "code",
   "execution_count": 41,
   "metadata": {},
   "outputs": [
    {
     "data": {
      "text/plain": [
       "array([[5.00262258, 2.98429805, 9.62947779, 0.99934022],\n",
       "       [3.99284225, 2.39426664, 7.80047921, 0.99847385],\n",
       "       [1.03412813, 0.91173079, 4.72913187, 5.00149023],\n",
       "       [0.98277085, 0.81995404, 4.06236395, 3.9968804 ],\n",
       "       [1.48335675, 1.11307643, 4.97484211, 4.00742146]])"
      ]
     },
     "execution_count": 41,
     "metadata": {},
     "output_type": "execute_result"
    }
   ],
   "source": [
    "computeApproximatedMatrix(U,V)"
   ]
  },
  {
   "cell_type": "code",
   "execution_count": 33,
   "metadata": {},
   "outputs": [
    {
     "data": {
      "text/plain": [
       "array([[5, 3, 0, 1],\n",
       "       [4, 0, 0, 1],\n",
       "       [1, 1, 0, 5],\n",
       "       [1, 0, 0, 4],\n",
       "       [0, 1, 5, 4]])"
      ]
     },
     "execution_count": 33,
     "metadata": {},
     "output_type": "execute_result"
    }
   ],
   "source": [
    "R"
   ]
  },
  {
   "cell_type": "code",
   "execution_count": null,
   "metadata": {},
   "outputs": [],
   "source": []
  }
 ],
 "metadata": {
  "kernelspec": {
   "display_name": "Python 3",
   "language": "python",
   "name": "python3"
  },
  "language_info": {
   "codemirror_mode": {
    "name": "ipython",
    "version": 3
   },
   "file_extension": ".py",
   "mimetype": "text/x-python",
   "name": "python",
   "nbconvert_exporter": "python",
   "pygments_lexer": "ipython3",
   "version": "3.7.4"
  },
  "name": "Movie_Lens.ipynb"
 },
 "nbformat": 4,
 "nbformat_minor": 2
}
