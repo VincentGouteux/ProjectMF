{
 "cells": [
  {
   "cell_type": "markdown",
   "metadata": {},
   "source": [
    "## Functions :\n",
    "-***loadData*** : Load data from csv datasets \n",
    "\n",
    "-***visualizeData*** : Have a small insight on the Data\n",
    "\n",
    "-***Df2Numpy*** : Converts pandas Dataframe to numpy array\n",
    "***\n",
    "\n"
   ]
  },
  {
   "cell_type": "code",
   "execution_count": 3,
   "metadata": {},
   "outputs": [],
   "source": [
    "import pandas as pd\n",
    "import numpy as np\n",
    "import matplotlib.pyplot as plt\n",
    "import os\n",
    "import math\n",
    "import random \n",
    "\n",
    "import itertools\n",
    "\n",
    "\n",
    "def dataAnalysis(R):\n",
    "    nUsers = R.shape[0]\n",
    "    nMovies = R.shape[1]\n",
    "    \n",
    "    # Number of rated movies per user\n",
    "    ratingsPerUser = [sum(R[i, :] > 0) for i in range(nUsers)]\n",
    "    maxRatingsPerUser = max(ratingsPerUser)\n",
    "    minRatingsPerUser = min(ratingsPerUser)\n",
    "    avgRatingsPerUser = sum(ratingsPerUser) / len(ratingsPerUser)\n",
    "    print(\"Max ratings per user : \", maxRatingsPerUser)\n",
    "    print(\"Min ratings per user : \", minRatingsPerUser)\n",
    "    print(\"Avg ratings per user : \", avgRatingsPerUser)\n",
    "    usersNoRatings = len([u for u in ratingsPerUser if u == 0])\n",
    "    print(\"Users with no ratings : \", usersNoRatings)\n",
    "    \n",
    "    # Number of ratings per movie\n",
    "    ratingsPerMovie = [sum(R[:, j] > 0) for j in range(nMovies)]\n",
    "    maxRatingsPerMovie = max(ratingsPerMovie)\n",
    "    minRatingsPerMovie = min(ratingsPerMovie)\n",
    "    avgRatingsPerMovie = sum(ratingsPerMovie) / len(ratingsPerMovie)\n",
    "    print(\"Max ratings per movie : \", maxRatingsPerMovie)\n",
    "    print(\"Min ratings per movie : \", minRatingsPerMovie)\n",
    "    print(\"Avg ratings per movie : \", avgRatingsPerMovie)\n",
    "    moviesNoRatings = len([m for m in ratingsPerMovie if m == 0])            \n",
    "    print(\"Movies with no ratings : \", moviesNoRatings)\n",
    "\n",
    "def loadData(directory):\n",
    "    \"\"\"\n",
    "        Takes as input the directory of the dataset. \n",
    "        Outputs two pandas frames: ratings and movies.\n",
    "    \"\"\"\n",
    "    ratings = pd.read_csv(directory + '/ratings.csv', usecols=['userId', 'movieId', 'rating'])\n",
    "    movies = pd.read_csv(directory + 'movies.csv')\n",
    "    return ratings, movies\n",
    "\n",
    "def visualizeData(ratings, movies):\n",
    "    print('Ratings is a {} Frame'.format(ratings.shape))\n",
    "    print(ratings.head())\n",
    "    print('\\n')\n",
    "    print(ratings.describe())\n",
    "    print('\\n')\n",
    "    print('Movies is a {} Frame'.format(movies.shape))\n",
    "    print(movies.head())\n",
    "    \n",
    "    nUsers = len(ratings['userId'].unique())\n",
    "    print(\"There are {} users in the dataset.\".format(nUsers))\n",
    "    nMovies = len(movies['movieId'].unique())\n",
    "    print(\"There are {} movies in the dataset.\".format(nMovies))\n",
    "    \n",
    "    ratings['rating'].hist(bins=50)\n",
    "    \n",
    "def Df2Numpy(ratings):\n",
    "    ratingsMatrix = ratings.pivot(index='userId', columns='movieId', values='rating')\n",
    "    ratingsMatrix = ratingsMatrix.fillna(0)\n",
    "    R = ratingsMatrix.to_numpy()\n",
    "    return R\n",
    "    \n",
    "class MatrixFactorization():\n",
    "    \"\"\"\n",
    "        A Simple Matrix Factorization Class.\n",
    "        Assumes ratings is a m x n Numpy Array. \n",
    "        nFactors is the intermediate dimension k of the Matrices U and V.\n",
    "        lambdaReg and muReg are regularization parameters.\n",
    "        Blabla..\n",
    "    \"\"\"\n",
    "    def __init__(self, ratings, nFactors=10, lambdaReg=0.0, muReg=0.0, alpha=0.01, maxIter=100, epsilon=0.001, trainFrac=0.8, valFrac=0.1, testFrac=0.1):\n",
    "        #np.random.seed(0) #Fix seed\n",
    "        self.R = ratings\n",
    "        self.nFactors = nFactors\n",
    "        self.lambdaReg = lambdaReg\n",
    "        self.muReg = muReg\n",
    "        self.nUsers, self.nMovies = ratings.shape\n",
    "        self.alpha = alpha\n",
    "        self.maxIter = maxIter\n",
    "        self.U = np.random.normal(size=(self.nUsers, self.nFactors))\n",
    "        self.V = np.random.normal(size=(self.nMovies, self.nFactors))\n",
    "        self.samples = self.matrix2Samples(ratings)\n",
    "        self.epsilon = epsilon\n",
    "        self.trainFrac = trainFrac\n",
    "        self.valFrac = valFrac\n",
    "        self.testFrac = testFrac\n",
    "        \n",
    "    def randomInit(self):\n",
    "        self.U = np.random.normal(size=(self.nUsers, self.nFactors))\n",
    "        self.V = np.random.normal(size=(self.nMovies, self.nFactors))\n",
    "        \n",
    "    def matrix2Samples(self, R):\n",
    "        samples = [(i, j, R[i,j]) for i in range(self.nUsers)\n",
    "           for j in range(self.nMovies) if R[i,j] > 0]\n",
    "        return samples\n",
    "    \n",
    "    def Samples2Matrix(self, samples, m, n):\n",
    "        matrix = np.zeros(m, n)\n",
    "        for s in samples:\n",
    "            i, j, v = s\n",
    "            matrix[i, j] = v\n",
    "        return matrix\n",
    "    \n",
    "    \n",
    "    def splitTrainValTest(self):\n",
    "        # Shuffle the samples and sends back a partition for training, validation and testing\n",
    "        np.random.shuffle(self.samples)\n",
    "        nSamples = len(self.samples)\n",
    "        e1 = math.floor(self.trainFrac * nSamples)\n",
    "        e2 = math.floor(self.trainFrac * nSamples) + math.floor(self.valFrac * nSamples) \n",
    "        \n",
    "        trainSamples, valSamples, testSamples = self.samples[:e1], self.samples[e1:e2], self.samples[e2:]\n",
    "        \n",
    "        # This can be removed if the split is only performed once\n",
    "        for s in trainSamples:\n",
    "            i, j, r = s\n",
    "            R[i, j] = r\n",
    "        \n",
    "        for s in valSamples:\n",
    "            i, j, _ = s\n",
    "            R[i, j] = 0\n",
    "            \n",
    "        for s in testSamples:\n",
    "            i, j, _ = s\n",
    "            R[i, j] = 0\n",
    "            \n",
    "        # Check if no lost examples\n",
    "        if nSamples != len(trainSamples) + len(valSamples) + len(testSamples):\n",
    "            print('ERROR')\n",
    "        \n",
    "        return trainSamples, valSamples, testSamples\n",
    "    \n",
    "    def trainValTestIdx(self):\n",
    "        # Returns a partitions of indices \n",
    "        nSamples = len(self.samples)\n",
    "        interval = range(nSamples)\n",
    "        np.random.shuffle(interval)\n",
    "        \n",
    "        e1 = math.floor(self.trainFrac * nSamples)\n",
    "        e2 = math.floor(self.trainFrac * nSamples) + math.floor(self.valFrac * nSamples) \n",
    "        \n",
    "        trainIdx, valIdx, testIdx = interval[:e1], interval[e1:e2], interval[e2:]\n",
    "        \n",
    "        # Check if no lost examples\n",
    "        if nSamples != len(trainSamples) + len(valSamples) + len(testSamples):\n",
    "            print('ERROR')\n",
    "        \n",
    "        return trainIdx, valIdx, testIdx\n",
    "    \n",
    "    #def stochasticGradientDescentPass(self, R, U, V, alpha, lambdaReg, muReg, nFactors):\n",
    "    #    for i in range(R.shape[0]):\n",
    "    #        for j in range(R.shape[1]):\n",
    "    #            if R[i, j] > 0:\n",
    "    #                r_hat_ij = np.dot(U[i, :], V.T[:, j])\n",
    "    #                eij = R[i, j] - r_hat_ij\n",
    "    #                for q in range(nFactors):\n",
    "    #                    U[i, q] = U[i, q] + alpha * (eij * V[j, q] - lambdaReg * U[i, q])\n",
    "    #                    V[j, q] = V[j, q] + alpha * (eij * U[i, q] - muReg * V[j, q])\n",
    "    #    return U, V\n",
    "\n",
    "    def stochasticGradientDescentPass(self, trainSamples):\n",
    "        for s in trainSamples:\n",
    "            i, j, _ = s\n",
    "            r_hat_ij = np.dot(self.U[i, :], self.V.T[:, j])\n",
    "            eij = self.R[i, j] - r_hat_ij\n",
    "            tmpU = np.zeros(self.nFactors)\n",
    "            tmpV = np.zeros(self.nFactors)\n",
    "            for q in range(self.nFactors):\n",
    "                tmpU[q] = self.U[i, q] + self.alpha * (eij * self.V[j, q] - self.lambdaReg * self.U[i, q])\n",
    "                tmpV[q] = self.V[j, q] + self.alpha * (eij * self.U[i, q] - self.muReg * self.V[j, q])\n",
    "            \n",
    "            self.U[i, :] = tmpU[:]\n",
    "            self.V[j, :] = tmpV[:]\n",
    "            \n",
    "        return self.U, self.V\n",
    "\n",
    "    def gridSearch(self, factors, alphas, lambdaRegs, muRegs):\n",
    "        lowest_error = math.inf\n",
    "        best_config = None\n",
    "        bestSolution = (None, None)\n",
    "        for config in itertools.product(factors, alphas, lambdaRegs, muRegs):\n",
    "            self.nFactors, self.alpha, self.lambdaReg, self.muReg = config\n",
    "            U, V, history = self.stochasticGradientDescent(False)\n",
    "            if history['valError'] < lowest_error:\n",
    "                lowest_error = history['valError']\n",
    "                best_config = config\n",
    "                bestSolution = (U, V)\n",
    "                \n",
    "        self.U, self.V = bestSolution    # Just for consistency \n",
    "        \n",
    "        return U, V, best_config\n",
    "            \n",
    "            \n",
    "    def stochasticGradientDescent(self, logging=True):\n",
    "        history = {'trainErrors':[], 'valErrors':[]}\n",
    "        self.randomInit()\n",
    "        trainSamples, valSamples, testSamples = self.splitTrainValTest()  # This should probably be outside ?\n",
    "        for i in range(self.maxIter):\n",
    "            # I think we should shuffle the data here. \n",
    "            np.random.shuffle(trainSamples)\n",
    "            U, V = self.stochasticGradientDescentPass(trainSamples)\n",
    "            trainError = self.computeTotalErrorSamples(trainSamples)\n",
    "            \n",
    "            if logging:\n",
    "                valError = self.computeTotalErrorSamples(valSamples)\n",
    "                history['trainErrors'].append(trainError)\n",
    "                history['valErrors'].append(valError)\n",
    "            if trainError < self.epsilon:\n",
    "                break\n",
    "        \n",
    "        history['trainError'] = self.computeTotalErrorSamples(trainSamples)\n",
    "        history['valError'] = self.computeTotalErrorSamples(valSamples)\n",
    "\n",
    "        return U, V, history\n",
    "\n",
    "\n",
    "    def computeTotalErrorSamples(self, data):\n",
    "        error = 0\n",
    "        if len(data) == 0:\n",
    "            return 0\n",
    "        for s in data:\n",
    "            i, j, r = s\n",
    "            error += (r - np.dot(self.U[i, :], self.V.T[:, j])) ** 2\n",
    "        return error / len(data)\n",
    "\n",
    "    def plotHistory(self, history): \n",
    "        plt.plot(history['trainErrors'], label='Training Error')\n",
    "        plt.plot(history['valErrors'], label='Validation Error')\n",
    "        plt.title('Evolution of the Loss')\n",
    "        plt.ylabel('Loss Func')\n",
    "        plt.xlabel('Iteration')\n",
    "        plt.legend()\n",
    "        plt.show()\n",
    "        \n",
    "    def computeApproximatedMatrix(self, U, V):\n",
    "        return np.dot(U, V.T)\n",
    "    \n",
    "    def alsIteration(self, R, fixedVectors, solveVectors, regParameter):\n",
    "        A = np.dot(fixedVectors.T,\n",
    "                   fixedVectors) + np.eye(self.nFactors) * regParameter\n",
    "        b = np.dot(R, fixedVectors)\n",
    "        A_inv = np.linalg.inv(A)\n",
    "        solveVectors = b.dot(A_inv)\n",
    "        return solveVectors\n",
    "    \n",
    "    def alsUserStep(self, i):\n",
    "        u = np.dot(\n",
    "            np.linalg.inv(sum([np.outer(self.V[j, :], self.V[j, :]) \n",
    "                            for j in range(self.nMovies) if self.R[i, j] > 0]) + \n",
    "                               self.lambdaReg * np.eye(self.nFactors)), \n",
    "            sum([self.R[i,j] * self.V[j, :] for j in range(self.nMovies) if self.R[i, j] > 0])\n",
    "        )\n",
    "        return u\n",
    "    \n",
    "    def alsMovieStep(self, j):\n",
    "        #try: \n",
    "        v = np.dot(\n",
    "        np.linalg.inv(sum([np.outer(self.U[i, :], self.U[i, :]) \n",
    "                            for i in range(self.nUsers) if self.R[i, j] > 0]) +\n",
    "                               self.muReg * np.eye(self.nFactors)), \n",
    "        sum([self.R[i,j] * self.U[i, :] for i in range(self.nUsers) if self.R[i, j] > 0])\n",
    "        )\n",
    "        #except :\n",
    "        #    break\n",
    "        return v\n",
    "    \n",
    "    def alsIterationNew(self):\n",
    "        tmpU = np.zeros((self.nUsers, self.nFactors))\n",
    "        tmpV = np.zeros((self.nMovies, self.nFactors))\n",
    "        for i in range(self.nUsers):\n",
    "            if any([self.R[i, j] > 0 for j in range(self.nMovies)]):\n",
    "                tmpU[i, :] = self.alsUserStep(i)\n",
    "        \n",
    "        self.U = tmpU\n",
    "        for j in range(self.nMovies):\n",
    "            if any([self.R[i, j] > 0 for i in range(self.nUsers)]):\n",
    "                tmpV[j, :] = self.alsMovieStep(j)\n",
    "            \n",
    "        self.V = tmpV\n",
    "        \n",
    "    def als(self, logging=True):\n",
    "        history = {'trainErrors': [], 'valErrors': []}\n",
    "        self.randomInit()\n",
    "        trainSamples, valSamples, testSamples = self.splitTrainValTest()\n",
    "        \n",
    "        for i in range(self.maxIter):\n",
    "            #np.random.shuffle(trainSamples)\n",
    "            self.alsIterationNew()\n",
    "            \n",
    "            trainError = self.computeTotalErrorSamples(trainSamples)\n",
    "            if logging:\n",
    "                valError = self.computeTotalErrorSamples(valSamples)\n",
    "                history['trainErrors'].append(trainError)\n",
    "                history['valErrors'].append(valError)\n",
    "            if trainError < self.epsilon:\n",
    "                break\n",
    "        history['trainError'] = self.computeTotalErrorSamples(trainSamples)\n",
    "        history['valError'] = self.computeTotalErrorSamples(valSamples)\n",
    "\n",
    "        return self.U, self.V, history\n",
    "\n",
    "    def alsFit(self, logging=True):\n",
    "        history = {'trainErrors': [], 'valErrors': []}\n",
    "        self.randomInit()\n",
    "        trainSamples, valSamples, testSamples = self.splitTrainValTest()\n",
    "        for i in range(self.maxIter):\n",
    "            np.random.shuffle(trainSamples)\n",
    "            self.U = self.alsIteration(self.R, self.V, self.U, self.lambdaReg)\n",
    "            self.V = self.alsIteration(self.R.T, self.U, self.V, self.muReg)\n",
    "            trainError = self.computeTotalErrorSamples(trainSamples)\n",
    "\n",
    "            if logging:\n",
    "                valError = self.computeTotalErrorSamples(valSamples)\n",
    "                history['trainErrors'].append(trainError)\n",
    "                history['valErrors'].append(valError)\n",
    "            if trainError < self.epsilon:\n",
    "                break\n",
    "        history['trainError'] = self.computeTotalErrorSamples(trainSamples)\n",
    "        history['valError'] = self.computeTotalErrorSamples(valSamples)\n",
    "\n",
    "        return self.U, self.V, history\n",
    "    \n",
    "# Generates a rank(k) matrix. Should add some noise..    \n",
    "def syntheticMatrix(m, n, k):\n",
    "    basis = np.random.randint(3, size=(m, k))\n",
    "    matrix = np.zeros((m, n))\n",
    "    coeffs = np.random.randint(3, size=k)\n",
    "    \n",
    "    for i in range(n):\n",
    "        coeffs = np.random.randint(4, size=k)\n",
    "        matrix[:, i] = sum([coeffs[j] * basis[:, j] for j in range(k)]) # TODO: + some small noise vector\n",
    "         \n",
    "    return matrix\n",
    "    "
   ]
  },
  {
   "cell_type": "code",
   "execution_count": 39,
   "metadata": {},
   "outputs": [
    {
     "name": "stdout",
     "output_type": "stream",
     "text": [
      "Ratings is a (100836, 3) Frame\n",
      "   userId  movieId  rating\n",
      "0       1        1     4.0\n",
      "1       1        3     4.0\n",
      "2       1        6     4.0\n",
      "3       1       47     5.0\n",
      "4       1       50     5.0\n",
      "\n",
      "\n",
      "              userId        movieId         rating\n",
      "count  100836.000000  100836.000000  100836.000000\n",
      "mean      326.127564   19435.295718       3.501557\n",
      "std       182.618491   35530.987199       1.042529\n",
      "min         1.000000       1.000000       0.500000\n",
      "25%       177.000000    1199.000000       3.000000\n",
      "50%       325.000000    2991.000000       3.500000\n",
      "75%       477.000000    8122.000000       4.000000\n",
      "max       610.000000  193609.000000       5.000000\n",
      "\n",
      "\n",
      "Movies is a (9742, 3) Frame\n",
      "   movieId                               title  \\\n",
      "0        1                    Toy Story (1995)   \n",
      "1        2                      Jumanji (1995)   \n",
      "2        3             Grumpier Old Men (1995)   \n",
      "3        4            Waiting to Exhale (1995)   \n",
      "4        5  Father of the Bride Part II (1995)   \n",
      "\n",
      "                                        genres  \n",
      "0  Adventure|Animation|Children|Comedy|Fantasy  \n",
      "1                   Adventure|Children|Fantasy  \n",
      "2                               Comedy|Romance  \n",
      "3                         Comedy|Drama|Romance  \n",
      "4                                       Comedy  \n",
      "There are 610 users in the dataset.\n",
      "There are 9742 movies in the dataset.\n"
     ]
    },
    {
     "data": {
      "image/png": "[encoded data removed]",
      "text/plain": [
       "<Figure size 432x288 with 1 Axes>"
      ]
     },
     "metadata": {
      "needs_background": "light"
     },
     "output_type": "display_data"
    }
   ],
   "source": [
    "ratings, movies = loadData('Data/')\n",
    "visualizeData(ratings, movies)"
   ]
  },
  {
   "cell_type": "code",
   "execution_count": 13,
   "metadata": {},
   "outputs": [
    {
     "name": "stdout",
     "output_type": "stream",
     "text": [
      "(1, 0.0001, 0.01, 0.01)\n"
     ]
    },
    {
     "data": {
      "image/png": "[encoded data removed]",
      "text/plain": [
       "<Figure size 432x288 with 1 Axes>"
      ]
     },
     "metadata": {
      "needs_background": "light"
     },
     "output_type": "display_data"
    }
   ],
   "source": [
    "\n",
    "mf = MatrixFactorization(R, nFactors=3, lambdaReg=1.0, muReg=1.0, trainFrac=1.0, valFrac=0.0, testFrac=0.0)\n",
    "U, V, best_config = mf.gridSearch(factors=[1, 3, 5, 10], alphas=[0.0001, 0.001, 0.01], lambdaRegs=[0.01, 0.1, 1.0], muRegs=[0.01, 0.1, 1.0])\n",
    "print(best_config)\n",
    "U, V, history = mf.stochasticGradientDescent(True)\n",
    "mf.plotHistory(history)"
   ]
  },
  {
   "cell_type": "code",
   "execution_count": 40,
   "metadata": {},
   "outputs": [],
   "source": [
    "#R = np.array([\n",
    "#    [5, 3, 0, 1],\n",
    "#    [4, 0, 0, 1],\n",
    "#    [1, 1, 0, 5],\n",
    "#    [1, 0, 0, 4],\n",
    "#    [0, 1, 5, 4],\n",
    "#])\n",
    "#R = syntheticMatrix(20, 8, 3)\n",
    "R = Df2Numpy(ratings)"
   ]
  },
  {
   "cell_type": "code",
   "execution_count": 40,
   "metadata": {},
   "outputs": [],
   "source": [
    "mf = MatrixFactorization(R, nFactors=2, lambdaReg=0.01, muReg=0.01, alpha=0.01, trainFrac=0.8, valFrac=0.2, testFrac=0.0, maxIter=100)"
   ]
  },
  {
   "cell_type": "code",
   "execution_count": 41,
   "metadata": {},
   "outputs": [],
   "source": [
    "U, V, history = mf.stochasticGradientDescent(True)"
   ]
  },
  {
   "cell_type": "code",
   "execution_count": 23,
   "metadata": {},
   "outputs": [
    {
     "data": {
      "text/plain": [
       "array([[ 8.01603919,  6.13409455,  5.20654396,  7.31844585,  6.28780237,\n",
       "        11.40144135,  8.97238896,  6.78907835],\n",
       "       [ 8.64148532,  7.60364132,  5.63134725,  8.85064854,  7.09626896,\n",
       "        12.07290209,  9.22691374,  5.78293112],\n",
       "       [ 6.8348915 ,  6.20447172,  4.4576229 ,  7.1850607 ,  5.67381056,\n",
       "         9.5070113 ,  7.21229999,  4.27876567],\n",
       "       [-3.44051256, -3.20363764, -2.24536285, -3.69482565, -2.88186372,\n",
       "        -4.76787876, -3.59431339, -2.02911371],\n",
       "       [ 3.44593373,  3.39998542,  2.25248502,  3.88620372,  2.94776822,\n",
       "         4.73328178,  3.51396576,  1.73581424],\n",
       "       [ 7.79040335,  5.95201401,  5.05981347,  7.1033109 ,  6.10779207,\n",
       "        11.08258614,  8.72406812,  6.61257572],\n",
       "       [ 5.86233511,  4.22553682,  3.80279876,  5.09950418,  4.51487531,\n",
       "         8.39550529,  6.67885551,  5.36875262],\n",
       "       [ 5.36052829,  5.09000916,  3.50025855,  5.85235121,  4.52173026,\n",
       "         7.40695332,  5.55585148,  3.00874519],\n",
       "       [ 8.95816216,  7.95987615,  5.83916797,  9.25025171,  7.3812086 ,\n",
       "        12.49824739,  9.53015825,  5.87459442],\n",
       "       [ 2.75950272,  1.44412824,  1.77983396,  1.87188026,  1.95043985,\n",
       "         4.07185646,  3.38885016,  3.37171648],\n",
       "       [ 7.80529027,  5.75702485,  5.06561602,  6.91671771,  6.0532682 ,\n",
       "        11.14918962,  8.83352297,  6.94505514],\n",
       "       [ 3.85145679,  3.30768063,  2.50833514,  3.86590251,  3.13671174,\n",
       "         5.39869558,  4.14889427,  2.70329312],\n",
       "       [ 9.1955624 ,  7.69519502,  5.98500046,  9.0340472 ,  7.42425067,\n",
       "        12.93416002,  9.99656511,  6.76745214],\n",
       "       [ 6.6254493 ,  5.38431152,  4.30922324,  6.35376866,  5.2978497 ,\n",
       "         9.35437307,  7.27456601,  5.12414744],\n",
       "       [ 5.2713231 ,  4.73049316,  3.43686146,  5.48840007,  4.3583315 ,\n",
       "         7.34418615,  5.58695555,  3.38460983],\n",
       "       [ 5.28962066,  4.44068844,  3.44305391,  5.21042037,  4.27523159,\n",
       "         7.43708636,  5.74403184,  3.87097815],\n",
       "       [ 6.87150521,  6.30179868,  4.48270266,  7.28571628,  5.72476287,\n",
       "         9.54383144,  7.22211951,  4.20235257],\n",
       "       [ 3.94246479,  3.1930332 ,  2.56399344,  3.77023447,  3.14898386,\n",
       "         5.56870533,  4.33361902,  3.06600212],\n",
       "       [ 5.55827551,  3.96545948,  3.60479384,  4.79532548,  4.26758019,\n",
       "         7.9690646 ,  6.3508408 ,  5.15370472],\n",
       "       [ 6.74405468,  6.71082175,  4.40941225,  7.66069993,  5.78727783,\n",
       "         9.25105077,  6.85171067,  3.30930264]])"
      ]
     },
     "execution_count": 23,
     "metadata": {},
     "output_type": "execute_result"
    }
   ],
   "source": [
    "np.dot(U, V.T)"
   ]
  },
  {
   "cell_type": "code",
   "execution_count": 42,
   "metadata": {},
   "outputs": [
    {
     "data": {
      "image/png": "[encoded data removed]",
      "text/plain": [
       "<Figure size 432x288 with 1 Axes>"
      ]
     },
     "metadata": {
      "needs_background": "light"
     },
     "output_type": "display_data"
    },
    {
     "name": "stdout",
     "output_type": "stream",
     "text": [
      "Training error :  0.16259606316587014\n",
      "Validation error :  12.317524590406228\n"
     ]
    }
   ],
   "source": [
    "mf.plotHistory(history)\n",
    "print(\"Training error : \", history['trainError'])\n",
    "print(\"Validation error : \", history['valError'])"
   ]
  },
  {
   "cell_type": "code",
   "execution_count": 46,
   "metadata": {},
   "outputs": [
    {
     "data": {
      "image/png": "[encoded data removed]",
      "text/plain": [
       "<Figure size 432x288 with 1 Axes>"
      ]
     },
     "metadata": {
      "needs_background": "light"
     },
     "output_type": "display_data"
    },
    {
     "name": "stdout",
     "output_type": "stream",
     "text": [
      "Training error :  0.46317413443683997\n",
      "Validation error :  1.4310504613955148\n"
     ]
    }
   ],
   "source": [
    "#R = syntheticMatrix(20, 8, 4)\n",
    "#print(R)\n",
    "\n",
    "R = Df2Numpy(ratings)\n",
    "mf = MatrixFactorization(R, nFactors=3, lambdaReg=0.1, muReg=0.1, alpha=0.01, trainFrac=0.8, valFrac=0.2, testFrac=0.0, maxIter=10)\n",
    "U, V, history = mf.als()\n",
    "\n",
    "mf.plotHistory(history)\n",
    "print(\"Training error : \", history['trainError'])\n",
    "print(\"Validation error : \", history['valError'])\n",
    "\n",
    "\n",
    "#print(np.dot(U, V.T))\n",
    "#print(R)"
   ]
  },
  {
   "cell_type": "code",
   "execution_count": 5,
   "metadata": {},
   "outputs": [
    {
     "data": {
      "text/plain": [
       "array([[ 0.02184672,  3.20573427],\n",
       "       [-1.24247981, -0.0930023 ]])"
      ]
     },
     "execution_count": 5,
     "metadata": {},
     "output_type": "execute_result"
    }
   ],
   "source": [
    "np.random.normal(size=(2,2))"
   ]
  },
  {
   "cell_type": "code",
   "execution_count": 2,
   "metadata": {},
   "outputs": [],
   "source": [
    "import numpy as np"
   ]
  },
  {
   "cell_type": "code",
   "execution_count": 15,
   "metadata": {},
   "outputs": [],
   "source": [
    "import progressbar"
   ]
  },
  {
   "cell_type": "code",
   "execution_count": 49,
   "metadata": {},
   "outputs": [],
   "source": [
    "def best_k_als(nb_k):\n",
    "    train_err=[]\n",
    "    val_err =[]\n",
    "    pb = progressbar.ProgressBar(max_value = nb_k)\n",
    "    pb.start()\n",
    "    for k in range(1,nb_k):\n",
    "        mf = MatrixFactorization(R, nFactors=k, lambdaReg=0.2, muReg=0.2, alpha=0.01,trainFrac=0.8, valFrac=0.2, testFrac=0.0,maxIter=5)\n",
    "        U, V, history = mf.als()\n",
    "        #mf.plotHistory(history)\n",
    "        train_err.append(history['trainError'])\n",
    "        val_err.append(history['valError'])\n",
    "        pb.update(pb.value+1)\n",
    "    print(train_err,val_err)\n",
    "    plt.plot(range(1,nb_k), train_err)\n",
    "    plt.plot(range(1,nb_k), val_err)"
   ]
  },
  {
   "cell_type": "code",
   "execution_count": null,
   "metadata": {},
   "outputs": [
    {
     "name": "stderr",
     "output_type": "stream",
     "text": [
      " 12% (1 of 8) |###                       | Elapsed Time: 0:01:08 ETA:   0:08:02"
     ]
    }
   ],
   "source": [
    "best_k_als(8)"
   ]
  },
  {
   "cell_type": "code",
   "execution_count": null,
   "metadata": {},
   "outputs": [],
   "source": []
  }
 ],
 "metadata": {
  "kernelspec": {
   "display_name": "Python 3",
   "language": "python",
   "name": "python3"
  },
  "language_info": {
   "codemirror_mode": {
    "name": "ipython",
    "version": 3
   },
   "file_extension": ".py",
   "mimetype": "text/x-python",
   "name": "python",
   "nbconvert_exporter": "python",
   "pygments_lexer": "ipython3",
   "version": "3.7.2"
  }
 },
 "nbformat": 4,
 "nbformat_minor": 2
}
