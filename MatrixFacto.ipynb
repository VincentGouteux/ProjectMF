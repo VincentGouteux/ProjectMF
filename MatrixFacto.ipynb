{
 "cells": [
  {
   "cell_type": "markdown",
   "metadata": {},
   "source": [
    "## Functions :\n",
    "-***loadData*** : Load data from csv datasets \n",
    "\n",
    "-***visualizeData*** : Have a small insight on the Data\n",
    "\n",
    "-***Df2Numpy*** : Converts pandas Dataframe to numpy array\n",
    "***\n",
    "\n"
   ]
  },
  {
   "cell_type": "code",
   "execution_count": 173,
   "metadata": {},
   "outputs": [],
   "source": [
    "import pandas as pd\n",
    "import numpy as np\n",
    "import matplotlib.pyplot as plt\n",
    "import os\n",
    "import math\n",
    "import random \n",
    "\n",
    "import itertools\n",
    "\n",
    "\n",
    "def dataAnalysis(R):\n",
    "    nUsers = R.shape[0]\n",
    "    nMovies = R.shape[1]\n",
    "    \n",
    "    # Number of rated movies per user\n",
    "    ratingsPerUser = [sum(R[i, :] > 0) for i in range(nUsers)]\n",
    "    maxRatingsPerUser = max(ratingsPerUser)\n",
    "    minRatingsPerUser = min(ratingsPerUser)\n",
    "    avgRatingsPerUser = sum(ratingsPerUser) / len(ratingsPerUser)\n",
    "    print(\"Max ratings per user : \", maxRatingsPerUser)\n",
    "    print(\"Min ratings per user : \", minRatingsPerUser)\n",
    "    print(\"Avg ratings per user : \", avgRatingsPerUser)\n",
    "    usersNoRatings = len([u for u in ratingsPerUser if u == 0])\n",
    "    print(\"Users with no ratings : \", usersNoRatings)\n",
    "    \n",
    "    # Number of ratings per movie\n",
    "    ratingsPerMovie = [sum(R[:, j] > 0) for j in range(nMovies)]\n",
    "    maxRatingsPerMovie = max(ratingsPerMovie)\n",
    "    minRatingsPerMovie = min(ratingsPerMovie)\n",
    "    avgRatingsPerMovie = sum(ratingsPerMovie) / len(ratingsPerMovie)\n",
    "    print(\"Max ratings per movie : \", maxRatingsPerMovie)\n",
    "    print(\"Min ratings per movie : \", minRatingsPerMovie)\n",
    "    print(\"Avg ratings per movie : \", avgRatingsPerMovie)\n",
    "    moviesNoRatings = len([m for m in ratingsPerMovie if m == 0])            \n",
    "    print(\"Movies with no ratings : \", moviesNoRatings)\n",
    "\n",
    "def loadData(directory):\n",
    "    \"\"\"\n",
    "        Takes as input the directory of the dataset. \n",
    "        Outputs two pandas frames: ratings and movies.\n",
    "    \"\"\"\n",
    "    ratings = pd.read_csv(directory + '/ratings.csv', usecols=['userId', 'movieId', 'rating'])\n",
    "    movies = pd.read_csv(directory + 'movies.csv')\n",
    "    return ratings, movies\n",
    "\n",
    "def visualizeData(ratings, movies):\n",
    "    print('Ratings is a {} Frame'.format(ratings.shape))\n",
    "    print(ratings.head())\n",
    "    print('\\n')\n",
    "    print(ratings.describe())\n",
    "    print('\\n')\n",
    "    print('Movies is a {} Frame'.format(movies.shape))\n",
    "    print(movies.head())\n",
    "    \n",
    "    nUsers = len(ratings['userId'].unique())\n",
    "    print(\"There are {} users in the dataset.\".format(nUsers))\n",
    "    nMovies = len(movies['movieId'].unique())\n",
    "    print(\"There are {} movies in the dataset.\".format(nMovies))\n",
    "    \n",
    "    ratings['rating'].hist(bins=50)\n",
    "    \n",
    "def Df2Numpy(ratings):\n",
    "    ratingsMatrix = ratings.pivot(index='userId', columns='movieId', values='rating')\n",
    "    ratingsMatrix = ratingsMatrix.fillna(0)\n",
    "    R = ratingsMatrix.to_numpy()\n",
    "    return R\n",
    "    \n",
    "class MatrixFactorization():\n",
    "    \"\"\"\n",
    "        A Simple Matrix Factorization Class.\n",
    "        Assumes ratings is a m x n Numpy Array. \n",
    "        nFactors is the intermediate dimension k of the Matrices U and V.\n",
    "        lambdaReg and muReg are regularization parameters.\n",
    "        Blabla..\n",
    "    \"\"\"\n",
    "    def __init__(self, ratings, nFactors=10, lambdaReg=0.0, muReg=0.0, withBias=True, userBiasReg=0.0, movieBiasReg=0.0, alpha=0.001, maxIter=100, epsilon=0.001, trainFrac=0.8, valFrac=0.1, testFrac=0.1, mean=0.0, sd=1.0):\n",
    "        #np.random.seed(0) #Fix seed\n",
    "        self.R = ratings\n",
    "        self.nFactors = nFactors\n",
    "        self.lambdaReg = lambdaReg\n",
    "        self.muReg = muReg\n",
    "        self.userBiasReg = userBiasReg\n",
    "        self.movieBiasReg = movieBiasReg\n",
    "        self.nUsers, self.nMovies = ratings.shape\n",
    "        self.alpha = alpha\n",
    "        self.maxIter = maxIter\n",
    "        self.U = np.random.normal(size=(self.nUsers, self.nFactors))\n",
    "        self.V = np.random.normal(size=(self.nMovies, self.nFactors))\n",
    "        self.userBias = np.zeros(self.nUsers)\n",
    "        self.movieBias = np.zeros(self.nMovies)\n",
    "        self.samples = self.matrix2Samples(ratings)\n",
    "        self.nSamples = len(self.samples)\n",
    "        self.epsilon = epsilon\n",
    "        self.trainFrac = trainFrac\n",
    "        self.valFrac = valFrac\n",
    "        self.testFrac = testFrac\n",
    "        self.mean = mean\n",
    "        self.sd = sd\n",
    "        self.globalBias = 0\n",
    "        self.withBias = withBias\n",
    "        \n",
    "    def randomInit(self,mean,sd):\n",
    "        self.U = np.random.normal(loc=mean, scale=sd, size=(self.nUsers, self.nFactors))\n",
    "        self.V = np.random.normal(loc=mean, scale=sd, size=(self.nMovies, self.nFactors))\n",
    "        \n",
    "    def NonRandomInit(self):\n",
    "        self.U = np.ones((self.nUsers, self.nFactors))\n",
    "        self.V = np.ones((self.nMovies, self.nFactors))\n",
    "        \n",
    "    def matrix2Samples(self, R):\n",
    "        samples = [(i, j, R[i,j]) for i in range(self.nUsers)\n",
    "           for j in range(self.nMovies) if R[i,j] > 0]\n",
    "        return samples\n",
    "    \n",
    "    def Samples2Matrix(self, samples, m, n):\n",
    "        matrix = np.zeros(m, n)\n",
    "        for s in samples:\n",
    "            i, j, v = s\n",
    "            matrix[i, j] = v\n",
    "        return matrix\n",
    "    \n",
    "    \n",
    "    def splitTrainValTestOld(self):\n",
    "        # Shuffle the samples and sends back a partition for training, validation and testing\n",
    "        np.random.shuffle(self.samples)\n",
    "        nSamples = len(self.samples)\n",
    "        e1 = math.floor(self.trainFrac * nSamples)\n",
    "        e2 = math.floor(self.trainFrac * nSamples) + math.floor(self.valFrac * nSamples) \n",
    "        \n",
    "        trainSamples, valSamples, testSamples = self.samples[:e1], self.samples[e1:e2], self.samples[e2:]\n",
    "        \n",
    "        # This can be removed if the split is only performed once\n",
    "        for s in trainSamples:\n",
    "            i, j, r = s\n",
    "            R[i, j] = r\n",
    "        \n",
    "        for s in valSamples:\n",
    "            i, j, _ = s\n",
    "            R[i, j] = 0\n",
    "            \n",
    "        for s in testSamples:\n",
    "            i, j, _ = s\n",
    "            R[i, j] = 0\n",
    "            \n",
    "        # Check if no lost examples\n",
    "        if nSamples != len(trainSamples) + len(valSamples) + len(testSamples):\n",
    "            print('ERROR')\n",
    "        \n",
    "        return trainSamples, valSamples, testSamples\n",
    "    \n",
    "    def splitTrainValTest(self):\n",
    "        cpt = 0\n",
    "        trainSamples = []\n",
    "        valSamples = [] \n",
    "        testSamples = []\n",
    "        for i in range(self.nUsers):\n",
    "            ratingsIdx = [j for j in range(self.nMovies) if self.R[i, j] > 0]\n",
    "            random.shuffle(ratingsIdx)\n",
    "            nRatings = len(ratingsIdx)\n",
    "            e1 = math.floor(self.trainFrac * nRatings)\n",
    "            e2 = math.floor(self.trainFrac * nRatings) + math.floor(self.valFrac * nRatings) \n",
    "            cpt += nRatings\n",
    "            trainIdx, valIdx, testIdx = ratingsIdx[:e1], ratingsIdx[e1:e2], ratingsIdx[e2:]\n",
    "            trainSamples.extend([(i, j, self.R[i, j]) for j in trainIdx])\n",
    "            valSamples.extend([(i, j, self.R[i, j]) for j in valIdx])\n",
    "            testSamples.extend([(i, j, self.R[i, j]) for j in testIdx])\n",
    "            \n",
    "        for s in trainSamples:\n",
    "            i, j, r = s\n",
    "            R[i, j] = r\n",
    "        \n",
    "        for s in valSamples:\n",
    "            i, j, _ = s\n",
    "            R[i, j] = 0\n",
    "            \n",
    "        for s in testSamples:\n",
    "            i, j, _ = s\n",
    "            R[i, j] = 0\n",
    "            \n",
    "        if self.nSamples != len(trainSamples) + len(valSamples) + len(testSamples):\n",
    "            print('ERROR : ', cpt, ' ', self.nSamples, ' ', len(trainSamples) + len(valSamples) + len(testSamples))\n",
    "\n",
    "        return trainSamples, valSamples, testSamples\n",
    "    \n",
    "    def setGlobalBias(self, trainSamples):\n",
    "        self.globalBias = sum([s[2] for s in trainSamples]) / len(self.samples)\n",
    "    \n",
    "    def splitTrainValSets(self, nGrades=10):\n",
    "        \"\"\"\n",
    "        Split the observed data (nonzero entries) into a training set\n",
    "        and a validation set by removing 10 grades per user and assigning them\n",
    "        to the validation set\n",
    "        \"\"\"\n",
    "        valMatrix = np.zeros(self.R.shape)\n",
    "        trainMatrix = self.R.copy()\n",
    "        for i in range(self.R.shape[0]):\n",
    "            valRatingsIds = np.random.choice(self.R[i, :].nonzero()[0],\n",
    "                                             size=nGrades,\n",
    "                                             replace=False)\n",
    "            trainMatrix[i, valRatingsIds] = 0\n",
    "            valMatrix[i, valRatingsIds] = self.R[i, valRatingsIds]\n",
    "\n",
    "        assert (np.all(trainMatrix * valMatrix) == 0)\n",
    "        trainSamples = self.matrix2Samples(trainMatrix)\n",
    "        valSamples = self.matrix2Samples(valMatrix)\n",
    "        return trainSamples, valSamples\n",
    "    \n",
    "    def trainValTestIdx(self):\n",
    "        # Returns a partitions of indices \n",
    "        nSamples = len(self.samples)\n",
    "        interval = range(nSamples)\n",
    "        np.random.shuffle(interval)\n",
    "        \n",
    "        e1 = math.floor(self.trainFrac * nSamples)\n",
    "        e2 = math.floor(self.trainFrac * nSamples) + math.floor(self.valFrac * nSamples) \n",
    "        \n",
    "        trainIdx, valIdx, testIdx = interval[:e1], interval[e1:e2], interval[e2:]\n",
    "        \n",
    "        # Check if no lost examples\n",
    "        if nSamples != len(trainSamples) + len(valSamples) + len(testSamples):\n",
    "            print('ERROR')\n",
    "        \n",
    "        return trainIdx, valIdx, testIdx\n",
    "    \n",
    "    #def stochasticGradientDescentPass(self, R, U, V, alpha, lambdaReg, muReg, nFactors):\n",
    "    #    for i in range(R.shape[0]):\n",
    "    #        for j in range(R.shape[1]):\n",
    "    #            if R[i, j] > 0:\n",
    "    #                r_hat_ij = np.dot(U[i, :], V.T[:, j])\n",
    "    #                eij = R[i, j] - r_hat_ij\n",
    "    #                for q in range(nFactors):\n",
    "    #                    U[i, q] = U[i, q] + alpha * (eij * V[j, q] - lambdaReg * U[i, q])\n",
    "    #                    V[j, q] = V[j, q] + alpha * (eij * U[i, q] - muReg * V[j, q])\n",
    "    #    return U, V\n",
    "\n",
    "    def stochasticGradientDescentPass(self, trainSamples):\n",
    "        for s in trainSamples:\n",
    "            i, j, r = s\n",
    "            r_hat_ij = np.dot(self.U[i, :], self.V.T[:, j]) + self.userBias[i] + self.movieBias[j] + self.globalBias\n",
    "            eij = r - r_hat_ij \n",
    "            tmpU = np.zeros(self.nFactors)\n",
    "            tmpV = np.zeros(self.nFactors)\n",
    "            for q in range(self.nFactors):\n",
    "                tmpU[q] = self.U[i, q] + self.alpha * (eij * self.V[j, q] - self.lambdaReg * self.U[i, q])\n",
    "                tmpV[q] = self.V[j, q] + self.alpha * (eij * self.U[i, q] - self.muReg * self.V[j, q])\n",
    "            \n",
    "            self.U[i, :] = tmpU[:]\n",
    "            self.V[j, :] = tmpV[:]\n",
    "            \n",
    "            if self.withBias:\n",
    "                self.userBias[i] = self.userBias[i] + self.alpha * (eij - self.userBiasReg * self.userBias[i])\n",
    "                self.movieBias[j] = self.movieBias[j] + self.alpha * (eij - self.movieBiasReg * self.movieBias[j])\n",
    "            \n",
    "        return self.U, self.V\n",
    "\n",
    "    def gridSearch(self, factors, alphas, lambdaRegs, muRegs):\n",
    "        lowest_error = math.inf\n",
    "        best_config = None\n",
    "        bestSolution = (None, None)\n",
    "        for config in itertools.product(factors, alphas, lambdaRegs, muRegs):\n",
    "            self.nFactors, self.alpha, self.lambdaReg, self.muReg = config\n",
    "            U, V, history = self.stochasticGradientDescent(False)\n",
    "            if history['valError'] < lowest_error:\n",
    "                lowest_error = history['valError']\n",
    "                best_config = config\n",
    "                bestSolution = (U, V)\n",
    "                \n",
    "        self.U, self.V = bestSolution    # Just for consistency \n",
    "        \n",
    "        return U, V, best_config\n",
    "            \n",
    "            \n",
    "    def stochasticGradientDescent(self, logging=True):\n",
    "        history = {'trainErrors':[], 'valErrors':[]}\n",
    "        self.randomInit(mean = self.mean, sd = self.sd)\n",
    "        #self.NonRandomInit()\n",
    "        trainSamples, valSamples, testSamples = self.splitTrainValTest()  # This should probably be outside ?\n",
    "        self.setGlobalBias(trainSamples)\n",
    "        for i in range(self.maxIter):\n",
    "            # I think we should shuffle the data here. \n",
    "            np.random.shuffle(trainSamples)\n",
    "            U, V = self.stochasticGradientDescentPass(trainSamples)\n",
    "            trainError = self.computeTotalErrorSamples(trainSamples)\n",
    "            \n",
    "            if logging:\n",
    "                valError = self.computeTotalErrorSamples(valSamples)\n",
    "                history['trainErrors'].append(trainError)\n",
    "                history['valErrors'].append(valError)\n",
    "            if trainError < self.epsilon:\n",
    "                break\n",
    "        \n",
    "        history['trainError'] = self.computeTotalErrorSamples(trainSamples)\n",
    "        history['valError'] = self.computeTotalErrorSamples(valSamples)\n",
    "\n",
    "        return U, V, history\n",
    "\n",
    "\n",
    "    def computeTotalErrorSamples(self, data):\n",
    "        error = 0\n",
    "        if len(data) == 0:\n",
    "            return 0\n",
    "        for s in data:\n",
    "            i, j, r = s\n",
    "            error += (r - np.dot(self.U[i, :], self.V.T[:, j]) - self.userBias[i] - self.movieBias[j] - self.globalBias) ** 2\n",
    "        return error / len(data)\n",
    "\n",
    "    def plotHistory(self, history): \n",
    "        plt.plot(history['trainErrors'], label='Training Error')\n",
    "        plt.plot(history['valErrors'], label='Validation Error')\n",
    "        plt.title('Evolution of the Loss')\n",
    "        plt.ylabel('Loss Func')\n",
    "        plt.xlabel('Iteration')\n",
    "        plt.legend()\n",
    "        plt.show()\n",
    "        \n",
    "    def computeApproximatedMatrix(self, U, V):\n",
    "        return np.dot(U, V.T)\n",
    "    \n",
    "    def alsIteration(self, R, fixedVectors, solveVectors, regParameter):\n",
    "        A = np.dot(fixedVectors.T,\n",
    "                   fixedVectors) + np.eye(self.nFactors) * regParameter\n",
    "        b = np.dot(R, fixedVectors)\n",
    "        A_inv = np.linalg.inv(A)\n",
    "        solveVectors = b.dot(A_inv)\n",
    "        return solveVectors\n",
    "    \n",
    "    def alsUserStep(self, i):\n",
    "        u = np.dot(\n",
    "            np.linalg.inv(sum([np.outer(self.V[j, :], self.V[j, :]) \n",
    "                            for j in range(self.nMovies) if self.R[i, j] > 0]) + \n",
    "                               self.lambdaReg * np.eye(self.nFactors)), \n",
    "            sum([self.R[i,j] * self.V[j, :] for j in range(self.nMovies) if self.R[i, j] > 0])\n",
    "        )\n",
    "        return u\n",
    "    \n",
    "    def alsMovieStep(self, j):\n",
    "        #try: \n",
    "        v = np.dot(\n",
    "        np.linalg.inv(sum([np.outer(self.U[i, :], self.U[i, :]) \n",
    "                            for i in range(self.nUsers) if self.R[i, j] > 0]) +\n",
    "                               self.muReg * np.eye(self.nFactors)), \n",
    "        sum([self.R[i,j] * self.U[i, :] for i in range(self.nUsers) if self.R[i, j] > 0])\n",
    "        )\n",
    "        #except :\n",
    "        #    break\n",
    "        return v\n",
    "    \n",
    "    def alsIterationNew(self):\n",
    "        tmpU = np.zeros((self.nUsers, self.nFactors))\n",
    "        tmpV = np.zeros((self.nMovies, self.nFactors))\n",
    "        \n",
    "        for i in range(self.nUsers):\n",
    "            if any([self.R[i, j] > 0 for j in range(self.nMovies)]):\n",
    "                tmpU[i, :] = self.alsUserStep(i)\n",
    "        \n",
    "        self.U = tmpU\n",
    "        for j in range(self.nMovies):\n",
    "            if any([self.R[i, j] > 0 for i in range(self.nUsers)]):\n",
    "                tmpV[j, :] = self.alsMovieStep(j)\n",
    "            \n",
    "        self.V = tmpV\n",
    "        \n",
    "    def als(self, logging=True):\n",
    "        history = {'trainErrors': [], 'valErrors': []}\n",
    "        self.randomInit(self.mean, self.sd)\n",
    "        trainSamples, valSamples, testSamples = self.splitTrainValTest()\n",
    "        \n",
    "        for i in range(self.maxIter):\n",
    "            #np.random.shuffle(trainSamples)\n",
    "            self.alsIterationNew()\n",
    "            \n",
    "            trainError = self.computeTotalErrorSamples(trainSamples)\n",
    "            if logging:\n",
    "                valError = self.computeTotalErrorSamples(valSamples)\n",
    "                history['trainErrors'].append(trainError)\n",
    "                history['valErrors'].append(valError)\n",
    "            if trainError < self.epsilon:\n",
    "                break\n",
    "        history['trainError'] = self.computeTotalErrorSamples(trainSamples)\n",
    "        history['valError'] = self.computeTotalErrorSamples(valSamples)\n",
    "\n",
    "        return self.U, self.V, history\n",
    "\n",
    "    def alsFit(self, logging=True):\n",
    "        history = {'trainErrors': [], 'valErrors': []}\n",
    "        self.randomInit()\n",
    "        trainSamples, valSamples, testSamples = self.splitTrainValTest()\n",
    "        for i in range(self.maxIter):\n",
    "            np.random.shuffle(trainSamples)\n",
    "            self.U = self.alsIteration(self.R, self.V, self.U, self.lambdaReg)\n",
    "            self.V = self.alsIteration(self.R.T, self.U, self.V, self.muReg)\n",
    "            trainError = self.computeTotalErrorSamples(trainSamples)\n",
    "\n",
    "            if logging:\n",
    "                valError = self.computeTotalErrorSamples(valSamples)\n",
    "                history['trainErrors'].append(trainError)\n",
    "                history['valErrors'].append(valError)\n",
    "            if trainError < self.epsilon:\n",
    "                break\n",
    "        history['trainError'] = self.computeTotalErrorSamples(trainSamples)\n",
    "        history['valError'] = self.computeTotalErrorSamples(valSamples)\n",
    "\n",
    "        return self.U, self.V, history\n",
    "    \n",
    "# Generates a rank(k) matrix. Should add some noise..    \n",
    "def syntheticMatrix(m, n, k):\n",
    "    basis = np.random.randint(3, size=(m, k))\n",
    "    matrix = np.zeros((m, n))\n",
    "    coeffs = np.random.randint(3, size=k)\n",
    "    \n",
    "    for i in range(n):\n",
    "        coeffs = np.random.randint(4, size=k)\n",
    "        matrix[:, i] = sum([coeffs[j] * basis[:, j] for j in range(k)]) # TODO: + some small noise vector\n",
    "         \n",
    "    return matrix\n",
    "    "
   ]
  },
  {
   "cell_type": "code",
   "execution_count": 168,
   "metadata": {},
   "outputs": [
    {
     "name": "stdout",
     "output_type": "stream",
     "text": [
      "Ratings is a (100836, 3) Frame\n",
      "   userId  movieId  rating\n",
      "0       1        1     4.0\n",
      "1       1        3     4.0\n",
      "2       1        6     4.0\n",
      "3       1       47     5.0\n",
      "4       1       50     5.0\n",
      "\n",
      "\n",
      "              userId        movieId         rating\n",
      "count  100836.000000  100836.000000  100836.000000\n",
      "mean      326.127564   19435.295718       3.501557\n",
      "std       182.618491   35530.987199       1.042529\n",
      "min         1.000000       1.000000       0.500000\n",
      "25%       177.000000    1199.000000       3.000000\n",
      "50%       325.000000    2991.000000       3.500000\n",
      "75%       477.000000    8122.000000       4.000000\n",
      "max       610.000000  193609.000000       5.000000\n",
      "\n",
      "\n",
      "Movies is a (9742, 3) Frame\n",
      "   movieId                               title  \\\n",
      "0        1                    Toy Story (1995)   \n",
      "1        2                      Jumanji (1995)   \n",
      "2        3             Grumpier Old Men (1995)   \n",
      "3        4            Waiting to Exhale (1995)   \n",
      "4        5  Father of the Bride Part II (1995)   \n",
      "\n",
      "                                        genres  \n",
      "0  Adventure|Animation|Children|Comedy|Fantasy  \n",
      "1                   Adventure|Children|Fantasy  \n",
      "2                               Comedy|Romance  \n",
      "3                         Comedy|Drama|Romance  \n",
      "4                                       Comedy  \n",
      "There are 610 users in the dataset.\n",
      "There are 9742 movies in the dataset.\n"
     ]
    },
    {
     "data": {
      "image/png": "[encoded data removed]",
      "text/plain": [
       "<Figure size 432x288 with 1 Axes>"
      ]
     },
     "metadata": {
      "needs_background": "light"
     },
     "output_type": "display_data"
    }
   ],
   "source": [
    "ratings, movies = loadData('Data/')\n",
    "visualizeData(ratings, movies)"
   ]
  },
  {
   "cell_type": "code",
   "execution_count": 13,
   "metadata": {},
   "outputs": [
    {
     "name": "stdout",
     "output_type": "stream",
     "text": [
      "(1, 0.0001, 0.01, 0.01)\n"
     ]
    },
    {
     "data": {
      "image/png": "[encoded data removed]",
      "text/plain": [
       "<Figure size 432x288 with 1 Axes>"
      ]
     },
     "metadata": {
      "needs_background": "light"
     },
     "output_type": "display_data"
    }
   ],
   "source": [
    "\n",
    "mf = MatrixFactorization(R, nFactors=3, lambdaReg=1.0, muReg=1.0, trainFrac=1.0, valFrac=0.0, testFrac=0.0)\n",
    "U, V, best_config = mf.gridSearch(factors=[1, 3, 5, 10], alphas=[0.0001, 0.001, 0.01], lambdaRegs=[0.01, 0.1, 1.0], muRegs=[0.01, 0.1, 1.0])\n",
    "print(best_config)\n",
    "U, V, history = mf.stochasticGradientDescent(True)\n",
    "mf.plotHistory(history)"
   ]
  },
  {
   "cell_type": "code",
   "execution_count": 187,
   "metadata": {},
   "outputs": [],
   "source": [
    "#R = np.array([\n",
    "#    [5, 3, 0, 1],\n",
    "#    [4, 0, 0, 1],\n",
    "#    [1, 1, 0, 5],\n",
    "#    [1, 0, 0, 4],\n",
    "#    [0, 1, 5, 4],\n",
    "#])\n",
    "#R = syntheticMatrix(20, 8, 3)\n",
    "RSGD = Df2Numpy(ratings)"
   ]
  },
  {
   "cell_type": "code",
   "execution_count": 188,
   "metadata": {},
   "outputs": [],
   "source": [
    "mfSGD = MatrixFactorization(RSGD, nFactors=0, lambdaReg=0.2, muReg=0.2, userBiasReg=0.2, movieBiasReg=0.2, alpha=0.001, trainFrac=0.8, valFrac=0.2, testFrac=0.0, maxIter=150, mean=0.0, sd=1.0)"
   ]
  },
  {
   "cell_type": "code",
   "execution_count": 189,
   "metadata": {},
   "outputs": [],
   "source": [
    "USGD, VSGD, historySGD = mfSGD.stochasticGradientDescent(True)"
   ]
  },
  {
   "cell_type": "code",
   "execution_count": 6,
   "metadata": {},
   "outputs": [
    {
     "data": {
      "text/plain": [
       "array([[4.49200242, 4.13940747, 3.8655823 , ..., 3.67074053, 3.75787645,\n",
       "        4.23698943],\n",
       "       [3.82249402, 3.52299752, 3.28950018, ..., 3.12492308, 3.19745795,\n",
       "        3.60688668],\n",
       "       [2.74378466, 2.53673677, 2.3620991 , ..., 2.26174929, 2.29037701,\n",
       "        2.60931451],\n",
       "       ...,\n",
       "       [3.45782428, 3.15389448, 2.97194459, ..., 2.74905646, 2.91221505,\n",
       "        3.17833161],\n",
       "       [3.47441031, 3.21848605, 2.99179591, ..., 2.87875562, 2.89651427,\n",
       "        3.32014368],\n",
       "       [4.05852367, 3.7924859 , 3.49849619, ..., 3.44025406, 3.36373076,\n",
       "        3.96253735]])"
      ]
     },
     "execution_count": 6,
     "metadata": {},
     "output_type": "execute_result"
    }
   ],
   "source": [
    "np.dot(U, V.T)"
   ]
  },
  {
   "cell_type": "code",
   "execution_count": 192,
   "metadata": {},
   "outputs": [
    {
     "data": {
      "image/png": "[encoded data removed]",
      "text/plain": [
       "<Figure size 432x288 with 1 Axes>"
      ]
     },
     "metadata": {
      "needs_background": "light"
     },
     "output_type": "display_data"
    },
    {
     "name": "stdout",
     "output_type": "stream",
     "text": [
      "[]\n",
      "Training error :  0.6827846140812549\n",
      "Validation error :  0.7582010342921011\n"
     ]
    }
   ],
   "source": [
    "mf.plotHistory(historySGD)\n",
    "print(VSGD)\n",
    "print(\"Training error : \", historySGD['trainError'])\n",
    "print(\"Validation error : \", historySGD['valError'])"
   ]
  },
  {
   "cell_type": "code",
   "execution_count": 20,
   "metadata": {},
   "outputs": [
    {
     "data": {
      "image/png": "[encoded data removed]",
      "text/plain": [
       "<Figure size 432x288 with 1 Axes>"
      ]
     },
     "metadata": {
      "needs_background": "light"
     },
     "output_type": "display_data"
    },
    {
     "name": "stdout",
     "output_type": "stream",
     "text": [
      "Training error :  0.4540558859717566\n",
      "Validation error :  1.3546355247032686\n"
     ]
    }
   ],
   "source": [
    "#R = syntheticMatrix(20, 8, 4)\n",
    "#print(R)\n",
    "RALS = Df2Numpy(ratings)\n",
    "mfALS = MatrixFactorization(RALS, nFactors=3, lambdaReg=0.5, muReg=0.5, alpha=0.01, trainFrac=0.8, valFrac=0.2, testFrac=0.0, maxIter=10, mean=0, sd = 0.01)\n",
    "UALS, VALS, historyALS = mfALS.als()\n",
    "\n",
    "mfALS.plotHistory(historyALS)\n",
    "print(\"Training error : \", historyALS['trainError'])\n",
    "print(\"Validation error : \", historyALS['valError'])\n",
    "\n",
    "\n",
    "#print(np.dot(U, V.T))\n",
    "#print(R)"
   ]
  },
  {
   "cell_type": "code",
   "execution_count": 2,
   "metadata": {},
   "outputs": [],
   "source": [
    "import numpy as np"
   ]
  },
  {
   "cell_type": "code",
   "execution_count": 14,
   "metadata": {},
   "outputs": [],
   "source": [
    "import progressbar"
   ]
  },
  {
   "cell_type": "code",
   "execution_count": null,
   "metadata": {
    "scrolled": true
   },
   "outputs": [
    {
     "name": "stderr",
     "output_type": "stream",
     "text": [
      " 83% (10 of 12) |####################    | Elapsed Time: 0:10:35 ETA:   0:03:10"
     ]
    }
   ],
   "source": [
    "train_err=[]\n",
    "val_err =[]\n",
    "pb = progressbar.ProgressBar(max_value = 12)\n",
    "pb.start()\n",
    "for k in range(1,12):\n",
    "    R = Df2Numpy(ratings)\n",
    "    mf = MatrixFactorization(R, nFactors=k, lambdaReg=0.1, muReg=0.1, alpha=0.01,trainFrac=0.8, valFrac=0.2, testFrac=0.0,maxIter=30, mean =1 ,sd = 0.1)\n",
    "    #U, V, history = mf.als(True)\n",
    "    U, V, history = mf.stochasticGradientDescent(True)\n",
    "    #mf.plotHistory(history)\n",
    "    train_err.append(history['trainError'])\n",
    "    val_err.append(history['valError'])\n",
    "    pb.update(pb.value+1)\n",
    "print(train_err,val_err)\n",
    "plt.plot(range(1,12), train_err)\n",
    "plt.plot(range(1,12), val_err)"
   ]
  },
  {
   "cell_type": "code",
   "execution_count": 49,
   "metadata": {},
   "outputs": [
    {
     "name": "stdout",
     "output_type": "stream",
     "text": [
      "0.6972893271922261\n",
      "0.7880399863834019\n"
     ]
    }
   ],
   "source": [
    "R = Df2Numpy(ratings)\n",
    "mf = MatrixFactorization(R, nFactors=4, lambdaReg=0.1, muReg=0.1, alpha=0.01,trainFrac=0.8, valFrac=0.2, testFrac=0.0,maxIter=5, mean =1 ,sd = 0.1)\n",
    "U, V, history = mf.stochasticGradientDescent(True)\n",
    "print(history['trainError'])\n",
    "print(history['valError'])"
   ]
  },
  {
   "cell_type": "code",
   "execution_count": 45,
   "metadata": {},
   "outputs": [],
   "source": [
    "def best_initialization(mean, sd):\n",
    "    lowest_error = math.inf\n",
    "    best_init = None\n",
    "    bestUV = (None,None)\n",
    "    errors = []\n",
    "    for config in itertools.product(mean, sd):\n",
    "        mean, sd = config\n",
    "        R = Df2Numpy(ratings)\n",
    "        mf = MatrixFactorization(R, nFactors=3, lambdaReg=0.1, muReg=0.1, alpha=0.01, trainFrac=0.8, valFrac=0.2, testFrac=0.0, maxIter=5, mean = mean , sd=sd)\n",
    "        #U, V, history = mf.stochasticGradientDescent(True)\n",
    "        U, V, history = mf.als(True)\n",
    "        print(history['valError'])\n",
    "        errors.append(history['valError'])\n",
    "        if history['valError'] < lowest_error:\n",
    "            lowest_error = history['valError']\n",
    "            best_init = config\n",
    "            bestUV = U,V\n",
    "    return U,V,lowest_error, best_init, errors"
   ]
  },
  {
   "cell_type": "code",
   "execution_count": null,
   "metadata": {},
   "outputs": [],
   "source": [
    "#best_initialization([-5,-4,-3,-2,-1,0,1,2,3,4,5],[0.5])"
   ]
  },
  {
   "cell_type": "code",
   "execution_count": 46,
   "metadata": {},
   "outputs": [
    {
     "name": "stdout",
     "output_type": "stream",
     "text": [
      "0.49123820898993686\n",
      "0.49829598948087783\n",
      "0.4920813984697845\n",
      "0.4746826859591383\n"
     ]
    },
    {
     "data": {
      "text/plain": [
       "[<matplotlib.lines.Line2D at 0x200856205c0>]"
      ]
     },
     "execution_count": 46,
     "metadata": {},
     "output_type": "execute_result"
    },
    {
     "data": {
      "image/png": "[encoded data removed]",
      "text/plain": [
       "<Figure size 432x288 with 1 Axes>"
      ]
     },
     "metadata": {
      "needs_background": "light"
     },
     "output_type": "display_data"
    }
   ],
   "source": [
    "d = best_initialization([1],[0.01,0.1,0.5,1])[4]\n",
    "plt.plot([0.01,0.1,0.5,1],d)\n",
    "\n",
    "#ALS VALIDATION ERROR EN FONCTION DE STANDARD DEVIATION A MEAN=1 "
   ]
  },
  {
   "cell_type": "code",
   "execution_count": null,
   "metadata": {},
   "outputs": [],
   "source": []
  },
  {
   "cell_type": "code",
   "execution_count": 9,
   "metadata": {},
   "outputs": [],
   "source": [
    "def plot_best_init(mean):\n",
    "    d = best_initialization([mean],[0.01,0.1,0.2,0.3,0.4,0.5,0.7,1])[4]\n",
    "    plt.plot([0.01,0.1,0.2,0.3,0.4,0.5,0.7,1], d)"
   ]
  },
  {
   "cell_type": "code",
   "execution_count": 10,
   "metadata": {},
   "outputs": [
    {
     "name": "stdout",
     "output_type": "stream",
     "text": [
      "1.3090499006414436\n",
      "1.2805005340299587\n",
      "1.2758938337093702\n",
      "1.2771303170568933\n",
      "1.3686500065377503\n",
      "1.3155144711533049\n",
      "1.372378809105249\n",
      "1.410437373536466\n",
      "1.5862473763684974\n",
      "0.7711914406797539\n",
      "0.7862747024024728\n",
      "0.7820779836865048\n",
      "0.7917221291560071\n",
      "0.7951768139542993\n",
      "0.8196293993025917\n",
      "0.8316698495590706\n",
      "0.875150309065631\n",
      "0.9741709365111312\n",
      "0.8903521528921858\n",
      "0.9161713552224857\n",
      "0.8671264253828596\n",
      "0.8915230831916717\n",
      "0.9012252717250566\n",
      "0.9231883191425806\n",
      "0.9222777400237846\n",
      "0.9566885094805934\n",
      "1.0324153561276432\n",
      "1.1297095630339913\n",
      "0.9607848653985366\n",
      "0.9387317469318417\n",
      "0.8957660435594066\n",
      "0.9456939782596607\n",
      "0.9373621155047897\n",
      "0.9409366577275811\n",
      "1.1049537105735687\n",
      "1.1760638076587895\n"
     ]
    },
    {
     "data": {
      "image/png": "[encoded data removed]",
      "text/plain": [
       "<Figure size 432x288 with 1 Axes>"
      ]
     },
     "metadata": {
      "needs_background": "light"
     },
     "output_type": "display_data"
    }
   ],
   "source": [
    "plt.xlabel(\"Standard Deviation\")\n",
    "plt.ylabel(\"Validation Error\")\n",
    "d = best_initialization([0],[0.001,0.01,0.1,0.2,0.3,0.4,0.5,0.7,1])[4]\n",
    "plt.plot([0.001,0.01,0.1,0.2,0.3,0.4,0.5,0.7,1], d, label=\"Mean = 0\")\n",
    "d = best_initialization([1],[0.001,0.01,0.1,0.2,0.3,0.4,0.5,0.7,1])[4]\n",
    "plt.plot([0.001,0.01,0.1,0.2,0.3,0.4,0.5,0.7,1], d, label=\"Mean = 1\")\n",
    "d = best_initialization([2],[0.001,0.01,0.1,0.2,0.3,0.4,0.5,0.7,1])[4]\n",
    "plt.plot([0.001,0.01,0.1,0.2,0.3,0.4,0.5,0.7,1], d, label=\"Mean = 2\")\n",
    "d = best_initialization([3],[0.001,0.01,0.1,0.2,0.3,0.4,0.5,0.7,1])[4]\n",
    "plt.plot([0.001,0.01,0.1,0.2,0.3,0.4,0.5,0.7,1], d,label=\"Mean = 3\")\n",
    "plt.legend()\n",
    "plt.show()"
   ]
  },
  {
   "cell_type": "code",
   "execution_count": null,
   "metadata": {},
   "outputs": [],
   "source": []
  }
 ],
 "metadata": {
  "kernelspec": {
   "display_name": "Python 3",
   "language": "python",
   "name": "python3"
  },
  "language_info": {
   "codemirror_mode": {
    "name": "ipython",
    "version": 3
   },
   "file_extension": ".py",
   "mimetype": "text/x-python",
   "name": "python",
   "nbconvert_exporter": "python",
   "pygments_lexer": "ipython3",
   "version": "3.7.2"
  }
 },
 "nbformat": 4,
 "nbformat_minor": 2
}
