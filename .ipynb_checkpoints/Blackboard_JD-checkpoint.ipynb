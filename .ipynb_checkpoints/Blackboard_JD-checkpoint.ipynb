{
 "cells": [
  {
   "cell_type": "markdown",
   "metadata": {},
   "source": [
    "### Code"
   ]
  },
  {
   "cell_type": "code",
   "execution_count": 4,
   "metadata": {},
   "outputs": [],
   "source": [
    "import numpy as np\n",
    "import pandas as pd\n",
    "import matplotlib.pyplot as plt\n",
    "import math"
   ]
  },
  {
   "cell_type": "code",
   "execution_count": 5,
   "metadata": {},
   "outputs": [],
   "source": [
    "def loadData(directory):\n",
    "    \"\"\"\n",
    "    Takes as input the directory of the dataset.\n",
    "    Outputs two pandas frames: ratings and movies.\n",
    "    \"\"\"\n",
    "    ratings = pd.read_csv(directory + '/ratings.csv',\n",
    "                          usecols=['userId', 'movieId', 'rating'])\n",
    "    movies = pd.read_csv(directory + 'movies.csv')\n",
    "    return ratings, movies\n",
    "\n",
    "\n",
    "def Df2Numpy(ratings):\n",
    "    ratingsMatrix = ratings.pivot(index='userId',\n",
    "                                  columns='movieId',\n",
    "                                  values='rating')\n",
    "    ratingsMatrix = ratingsMatrix.fillna(0)\n",
    "    R = ratingsMatrix.to_numpy()\n",
    "    return R"
   ]
  },
  {
   "cell_type": "code",
   "execution_count": 44,
   "metadata": {},
   "outputs": [],
   "source": [
    "class MatrixFactorization():\n",
    "    \"\"\"\n",
    "    A simple Matrix Factorization Class\n",
    "    Assumes ratings is a m x n Numpy array\n",
    "    nFactors is the intermediate dimension k of the Matrices U and V\n",
    "    lambdaReg and muReg are regularization parameters\n",
    "    \"\"\"\n",
    "    def __init__(self,\n",
    "                 ratings,\n",
    "                 nFactors=10,\n",
    "                 alpha=0.01,\n",
    "                 lambdaReg=0.0,\n",
    "                 muReg=0.0,\n",
    "                 biasReg=0.0,\n",
    "                 maxIter=50,\n",
    "                 epsilon=0.001,\n",
    "                 trainFrac=0.8,\n",
    "                 valFrac=0.2,\n",
    "                 testFrac=0.0):\n",
    "        self.R = ratings\n",
    "        self.nFactors = nFactors\n",
    "        self.lambdaReg = lambdaReg\n",
    "        self.alpha = alpha\n",
    "        self.muReg = muReg\n",
    "        self.biasReg = biasReg\n",
    "        self.maxIter = maxIter\n",
    "        self.epsilon = 0.1\n",
    "        self.nUsers, self.nMovies = ratings.shape\n",
    "        self.trainFrac = trainFrac\n",
    "        self.valFrac = valFrac\n",
    "        self.testFrac = testFrac\n",
    "\n",
    "        self.samples = self.matrix2Samples(ratings)\n",
    "        self.U = np.random.normal(scale=(1. / self.nFactors),\n",
    "                                  size=(self.nUsers, self.nFactors))\n",
    "        self.V = np.random.normal(scale=(1. / self.nFactors),\n",
    "                                  size=(self.nMovies, self.nFactors))\n",
    "\n",
    "        self.userBias = np.zeros(self.nUsers)\n",
    "        self.movieBias = np.zeros(self.nMovies)\n",
    "        # self.globalBias = np.mean(self.R[np.where(self.R != 0)])\n",
    "\n",
    "    def matrix2Samples(self, matrix):\n",
    "        \"\"\"\n",
    "        Convert matrix to a list of tuples (row, column, value) with only\n",
    "        nonzero entries of the matrix\n",
    "        \"\"\"\n",
    "        samples = [(i, j, matrix[i, j]) for i in range(matrix.shape[0])\n",
    "                   for j in range(matrix.shape[1]) if matrix[i, j] > 0]\n",
    "        return samples\n",
    "\n",
    "    def samples2Matrix(self, samples, m, n):\n",
    "        \"\"\"\n",
    "        Convert list of tuples (row, column, value) to a matrix\n",
    "        of size m x n\n",
    "        \"\"\"\n",
    "        matrix = np.zeros(m, n)\n",
    "        for s in samples:\n",
    "            i, j, v = s\n",
    "            matrix[i, j] = v\n",
    "            return matrix\n",
    "\n",
    "    def randomInit(self):\n",
    "        \"\"\"\n",
    "        Initialise target matrices U and V using normally distributed\n",
    "        numbers\n",
    "        \"\"\"\n",
    "        self.U = np.random.normal(scale=(1. / self.nFactors),\n",
    "                                  size=(self.nUsers, self.nFactors))\n",
    "        self.V = np.random.normal(scale=(1. / self.nFactors),\n",
    "                                  size=(self.nMovies, self.nFactors))\n",
    "\n",
    "    def splitTrainValSets(self, nGrades=10):\n",
    "        \"\"\"\n",
    "        Split the observed data (nonzero entries) into a training set\n",
    "        and a validation set by removing 10 grades per user and assigning them\n",
    "        to the validation set\n",
    "        \"\"\"\n",
    "        valMatrix = np.zeros(self.R.shape)\n",
    "        trainMatrix = self.R.copy()\n",
    "        for i in range(self.R.shape[0]):\n",
    "            valRatingsIds = np.random.choice(self.R[i, :].nonzero()[0],\n",
    "                                             size=nGrades,\n",
    "                                             replace=False)\n",
    "            trainMatrix[i, valRatingsIds] = 0\n",
    "            valMatrix[i, valRatingsIds] = self.R[i, valRatingsIds]\n",
    "\n",
    "        assert (np.all(trainMatrix * valMatrix) == 0)\n",
    "        trainSamples = self.matrix2Samples(trainMatrix)\n",
    "        valSamples = self.matrix2Samples(valMatrix)\n",
    "        return trainSamples, valSamples\n",
    "\n",
    "    def splitTrainValTest(self):\n",
    "        # Shuffle the samples and sends back a partition for training, validation and testing\n",
    "        np.random.shuffle(self.samples)\n",
    "        nSamples = len(self.samples)\n",
    "        e1 = math.floor(self.trainFrac * nSamples)\n",
    "        e2 = math.floor(self.trainFrac * nSamples) + math.floor(self.valFrac * nSamples) \n",
    "        \n",
    "        trainSamples, valSamples, testSamples = self.samples[:e1], self.samples[e1:e2], self.samples[e2:]\n",
    "        \n",
    "        # This can be removed if the split is only performed once\n",
    "        for s in trainSamples:\n",
    "            i, j, r = s\n",
    "            self.R[i, j] = r\n",
    "        \n",
    "        for s in valSamples:\n",
    "            i, j, _ = s\n",
    "            self.R[i, j] = 0\n",
    "            \n",
    "        for s in testSamples:\n",
    "            i, j, _ = s\n",
    "            self.R[i, j] = 0\n",
    "            \n",
    "        # Check if no lost examples\n",
    "        if nSamples != len(trainSamples) + len(valSamples) + len(testSamples):\n",
    "            print('ERROR')\n",
    "        \n",
    "        return trainSamples, valSamples, testSamples\n",
    "\n",
    "    def stochasticGradientDescentPass(self, trainSamples):\n",
    "        \"\"\"\n",
    "        Stochastic gradient descent iteration\n",
    "        \"\"\"\n",
    "        for s in trainSamples:\n",
    "            i, j, _ = s\n",
    "            r_hat_ij = np.dot(self.U[i, :], self.V.T[:, j])\n",
    "            + self.userBias[i] + self.movieBias[j]\n",
    "            eij = self.R[i, j] - r_hat_ij\n",
    "            tmpU = np.zeros(self.nFactors)\n",
    "            tmpV = np.zeros(self.nFactors)\n",
    "            for q in range(self.nFactors):\n",
    "                tmpU[q] = self.U[i, q] + self.alpha * (\n",
    "                    eij * self.V[j, q] - self.lambdaReg * self.U[i, q])\n",
    "                tmpV[q] = self.V[j, q] + self.alpha * (\n",
    "                    eij * self.U[i, q] - self.muReg * self.V[j, q])\n",
    "\n",
    "            self.userBias[i] += self.alpha * (eij -\n",
    "                                               self.biasReg * self.userBias[i])\n",
    "            self.movieBias[j] += self.alpha * (\n",
    "                 eij - self.biasReg * self.movieBias[j])\n",
    "\n",
    "            self.U[i, :] = tmpU[:]\n",
    "            self.V[j, :] = tmpV[:]\n",
    "\n",
    "        return self.U, self.V\n",
    "\n",
    "    def stochasticGradientDescent(self, logging=True):\n",
    "        \"\"\"\n",
    "        Train using stochastic gradient descent\n",
    "        \"\"\"\n",
    "        history = {'trainErrors': [], 'valErrors': []}\n",
    "        self.randomInit()\n",
    "        trainSamples, valSamples, testSamples = self.splitTrainValTest()    \n",
    "#       trainSamples, valSamples = self.splitTrainValSets()\n",
    "        for i in range(self.maxIter):\n",
    "            np.random.shuffle(trainSamples)\n",
    "            U, V = self.stochasticGradientDescentPass(trainSamples)\n",
    "            trainError = self.computeTotalErrorSamples(trainSamples)\n",
    "\n",
    "            if logging:\n",
    "                valError = self.computeTotalErrorSamples(valSamples)\n",
    "                history['trainErrors'].append(trainError)\n",
    "                history['valErrors'].append(valError)\n",
    "            if trainError < self.epsilon:\n",
    "                break\n",
    "\n",
    "        history['trainError'] = self.computeTotalErrorSamples(trainSamples)\n",
    "        history['valError'] = self.computeTotalErrorSamples(valSamples)\n",
    "\n",
    "        return U, V, history\n",
    "\n",
    "    def plotHistory(self, history):\n",
    "        plt.plot(history['trainErrors'], label='Training Error')\n",
    "        plt.plot(history['valErrors'], label='Validation Error')\n",
    "        plt.title('Error(iteration)')\n",
    "        plt.ylabel('Mean Square Error')\n",
    "        plt.xlabel('Iteration')\n",
    "        plt.legend()\n",
    "        plt.show()\n",
    "\n",
    "    def computeTotalErrorSamples(self, data):\n",
    "        error = 0\n",
    "        if len(data) == 0:\n",
    "            return 0\n",
    "        for s in data:\n",
    "            i, j, r = s\n",
    "            # error += (r - np.dot(self.U[i, :], self.V.T[:, j]))**2\n",
    "            error += (r - (np.dot(self.U[i, :], self.V.T[:, j]) +\n",
    "                           self.userBias[i] + self.movieBias[j]))**2\n",
    "        return math.sqrt(error / len(data))\n",
    "\n",
    "    def computeApproximatedMatrix(self, U, V):\n",
    "        return np.dot(U, V.T)\n"
   ]
  },
  {
   "cell_type": "markdown",
   "metadata": {},
   "source": [
    "## Tests"
   ]
  },
  {
   "cell_type": "code",
   "execution_count": 39,
   "metadata": {},
   "outputs": [],
   "source": [
    "ratings, movies = loadData('Data/')"
   ]
  },
  {
   "cell_type": "code",
   "execution_count": 40,
   "metadata": {},
   "outputs": [],
   "source": [
    "ratings = Df2Numpy(ratings)"
   ]
  },
  {
   "cell_type": "markdown",
   "metadata": {},
   "source": [
    "### Initial number of iterations"
   ]
  },
  {
   "cell_type": "code",
   "execution_count": 52,
   "metadata": {},
   "outputs": [],
   "source": [
    "sgd_rec = MatrixFactorization(ratings, \n",
    "                              nFactors=10,\n",
    "                              alpha=0.0001,\n",
    "                              lambdaReg=0.02,\n",
    "                              muReg=0.02,\n",
    "                              biasReg=0.0,\n",
    "                              maxIter=40,\n",
    "                              epsilon=0.01)"
   ]
  },
  {
   "cell_type": "code",
   "execution_count": 53,
   "metadata": {},
   "outputs": [],
   "source": [
    "U, V, history = sgd_rec.stochasticGradientDescent()"
   ]
  },
  {
   "cell_type": "code",
   "execution_count": 54,
   "metadata": {},
   "outputs": [
    {
     "data": {
      "image/png": "[encoded data removed]",
      "text/plain": [
       "<Figure size 432x288 with 1 Axes>"
      ]
     },
     "metadata": {
      "needs_background": "light"
     },
     "output_type": "display_data"
    },
    {
     "name": "stdout",
     "output_type": "stream",
     "text": [
      "Training error: 3.589107414874137\n",
      "Validation error: 3.599822228240703\n"
     ]
    }
   ],
   "source": [
    "sgd_rec.plotHistory(history)\n",
    "print('Training error:', history['trainError'])\n",
    "print('Validation error:', history['valError'])"
   ]
  },
  {
   "cell_type": "markdown",
   "metadata": {},
   "source": [
    "### Test user/movie bias"
   ]
  }
 ],
 "metadata": {
  "kernelspec": {
   "display_name": "Python 3",
   "language": "python",
   "name": "python3"
  },
  "language_info": {
   "codemirror_mode": {
    "name": "ipython",
    "version": 3
   },
   "file_extension": ".py",
   "mimetype": "text/x-python",
   "name": "python",
   "nbconvert_exporter": "python",
   "pygments_lexer": "ipython3",
   "version": "3.7.4"
  }
 },
 "nbformat": 4,
 "nbformat_minor": 2
}
