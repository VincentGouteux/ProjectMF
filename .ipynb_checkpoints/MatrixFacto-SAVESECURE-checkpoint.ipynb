{
 "cells": [
  {
   "cell_type": "markdown",
   "metadata": {},
   "source": [
    "## Functions :\n",
    "-***loadData*** : Load data from csv datasets \n",
    "\n",
    "-***visualizeData*** : Have a small insight on the Data\n",
    "\n",
    "-***Df2Numpy*** : Converts pandas Dataframe to numpy array\n",
    "***\n",
    "\n"
   ]
  },
  {
   "cell_type": "code",
   "execution_count": 1,
   "metadata": {},
   "outputs": [],
   "source": [
    "import pandas as pd\n",
    "import numpy as np\n",
    "import matplotlib.pyplot as plt\n",
    "import os\n",
    "import math\n",
    "import random \n",
    "\n",
    "import itertools\n",
    "\n",
    "\n",
    "def dataAnalysis(R):\n",
    "    nUsers = R.shape[0]\n",
    "    nMovies = R.shape[1]\n",
    "    \n",
    "    # Number of rated movies per user\n",
    "    ratingsPerUser = [sum(R[i, :] > 0) for i in range(nUsers)]\n",
    "    maxRatingsPerUser = max(ratingsPerUser)\n",
    "    minRatingsPerUser = min(ratingsPerUser)\n",
    "    avgRatingsPerUser = sum(ratingsPerUser) / len(ratingsPerUser)\n",
    "    print(\"Max ratings per user : \", maxRatingsPerUser)\n",
    "    print(\"Min ratings per user : \", minRatingsPerUser)\n",
    "    print(\"Avg ratings per user : \", avgRatingsPerUser)\n",
    "    usersNoRatings = len([u for u in ratingsPerUser if u == 0])\n",
    "    print(\"Users with no ratings : \", usersNoRatings)\n",
    "    \n",
    "    # Number of ratings per movie\n",
    "    ratingsPerMovie = [sum(R[:, j] > 0) for j in range(nMovies)]\n",
    "    maxRatingsPerMovie = max(ratingsPerMovie)\n",
    "    minRatingsPerMovie = min(ratingsPerMovie)\n",
    "    avgRatingsPerMovie = sum(ratingsPerMovie) / len(ratingsPerMovie)\n",
    "    print(\"Max ratings per movie : \", maxRatingsPerMovie)\n",
    "    print(\"Min ratings per movie : \", minRatingsPerMovie)\n",
    "    print(\"Avg ratings per movie : \", avgRatingsPerMovie)\n",
    "    moviesNoRatings = len([m for m in ratingsPerMovie if m == 0])            \n",
    "    print(\"Movies with no ratings : \", moviesNoRatings)\n",
    "\n",
    "def loadData(directory):\n",
    "    \"\"\"\n",
    "        Takes as input the directory of the dataset. \n",
    "        Outputs two pandas frames: ratings and movies.\n",
    "    \"\"\"\n",
    "    ratings = pd.read_csv(directory + '/ratings.csv', usecols=['userId', 'movieId', 'rating'])\n",
    "    movies = pd.read_csv(directory + 'movies.csv')\n",
    "    return ratings, movies\n",
    "\n",
    "def visualizeData(ratings, movies):\n",
    "    print('Ratings is a {} Frame'.format(ratings.shape))\n",
    "    print(ratings.head())\n",
    "    print('\\n')\n",
    "    print(ratings.describe())\n",
    "    print('\\n')\n",
    "    print('Movies is a {} Frame'.format(movies.shape))\n",
    "    print(movies.head())\n",
    "    \n",
    "    nUsers = len(ratings['userId'].unique())\n",
    "    print(\"There are {} users in the dataset.\".format(nUsers))\n",
    "    nMovies = len(movies['movieId'].unique())\n",
    "    print(\"There are {} movies in the dataset.\".format(nMovies))\n",
    "    \n",
    "    ratings['rating'].hist(bins=50)\n",
    "    \n",
    "def Df2Numpy(ratings):\n",
    "    ratingsMatrix = ratings.pivot(index='userId', columns='movieId', values='rating')\n",
    "    ratingsMatrix = ratingsMatrix.fillna(0)\n",
    "    R = ratingsMatrix.to_numpy()\n",
    "    return R\n",
    "    \n",
    "class MatrixFactorization():\n",
    "    \"\"\"\n",
    "        A Simple Matrix Factorization Class.\n",
    "        Assumes ratings is a m x n Numpy Array. \n",
    "        nFactors is the intermediate dimension k of the Matrices U and V.\n",
    "        lambdaReg and muReg are regularization parameters.\n",
    "        Blabla..\n",
    "    \"\"\"\n",
    "    def __init__(self, ratings, nFactors=10, lambdaReg=0.0, muReg=0.0, alpha=0.01, maxIter=100, epsilon=0.001, trainFrac=0.8, valFrac=0.1, testFrac=0.1, mean = 0 , sd=1 ):\n",
    "        #np.random.seed(0) #Fix seed\n",
    "        self.R = ratings\n",
    "        self.nFactors = nFactors\n",
    "        self.lambdaReg = lambdaReg\n",
    "        self.muReg = muReg\n",
    "        self.nUsers, self.nMovies = ratings.shape\n",
    "        self.alpha = alpha\n",
    "        self.maxIter = maxIter\n",
    "        self.U = np.random.normal(size=(self.nUsers, self.nFactors))\n",
    "        self.V = np.random.normal(size=(self.nMovies, self.nFactors))\n",
    "        self.samples = self.matrix2Samples(ratings)\n",
    "        self.epsilon = epsilon\n",
    "        self.trainFrac = trainFrac\n",
    "        self.valFrac = valFrac\n",
    "        self.testFrac = testFrac\n",
    "        self.mean = mean\n",
    "        self.sd = sd\n",
    "        \n",
    "    def randomInit(self,mean,sd):\n",
    "        self.U = np.random.normal(loc = mean , scale = sd, size=(self.nUsers, self.nFactors))\n",
    "        self.V = np.random.normal(loc = mean , scale = sd, size=(self.nMovies, self.nFactors))\n",
    "        \n",
    "        \n",
    "    def NonRandomInit(self):\n",
    "        self.U = np.ones((self.nUsers, self.nFactors))\n",
    "        self.V = np.ones((self.nMovies, self.nFactors))\n",
    "        \n",
    "    def matrix2Samples(self, R):\n",
    "        samples = [(i, j, R[i,j]) for i in range(self.nUsers)\n",
    "           for j in range(self.nMovies) if R[i,j] > 0]\n",
    "        return samples\n",
    "    \n",
    "    def Samples2Matrix(self, samples, m, n):\n",
    "        matrix = np.zeros(m, n)\n",
    "        for s in samples:\n",
    "            i, j, v = s\n",
    "            matrix[i, j] = v\n",
    "        return matrix\n",
    "    \n",
    "    \n",
    "    def splitTrainValTest(self):\n",
    "        # Shuffle the samples and sends back a partition for training, validation and testing\n",
    "        np.random.shuffle(self.samples)\n",
    "        nSamples = len(self.samples)\n",
    "        e1 = math.floor(self.trainFrac * nSamples)\n",
    "        e2 = math.floor(self.trainFrac * nSamples) + math.floor(self.valFrac * nSamples) \n",
    "        \n",
    "        trainSamples, valSamples, testSamples = self.samples[:e1], self.samples[e1:e2], self.samples[e2:]\n",
    "        \n",
    "        # This can be removed if the split is only performed once\n",
    "        for s in trainSamples:\n",
    "            i, j, r = s\n",
    "            R[i, j] = r\n",
    "        \n",
    "        for s in valSamples:\n",
    "            i, j, _ = s\n",
    "            R[i, j] = 0\n",
    "            \n",
    "        for s in testSamples:\n",
    "            i, j, _ = s\n",
    "            R[i, j] = 0\n",
    "            \n",
    "        # Check if no lost examples\n",
    "        if nSamples != len(trainSamples) + len(valSamples) + len(testSamples):\n",
    "            print('ERROR')\n",
    "        \n",
    "        return trainSamples, valSamples, testSamples\n",
    "    \n",
    "    def splitTrainValSets(self, nGrades=10):\n",
    "        \"\"\"\n",
    "        Split the observed data (nonzero entries) into a training set\n",
    "        and a validation set by removing 10 grades per user and assigning them\n",
    "        to the validation set\n",
    "        \"\"\"\n",
    "        valMatrix = np.zeros(self.R.shape)\n",
    "        trainMatrix = self.R.copy()\n",
    "        for i in range(self.R.shape[0]):\n",
    "            valRatingsIds = np.random.choice(self.R[i, :].nonzero()[0],\n",
    "                                             size=nGrades,\n",
    "                                             replace=False)\n",
    "            trainMatrix[i, valRatingsIds] = 0\n",
    "            valMatrix[i, valRatingsIds] = self.R[i, valRatingsIds]\n",
    "\n",
    "        assert (np.all(trainMatrix * valMatrix) == 0)\n",
    "        trainSamples = self.matrix2Samples(trainMatrix)\n",
    "        valSamples = self.matrix2Samples(valMatrix)\n",
    "        return trainSamples, valSamples\n",
    "    \n",
    "    def trainValTestIdx(self):\n",
    "        # Returns a partitions of indices \n",
    "        nSamples = len(self.samples)\n",
    "        interval = range(nSamples)\n",
    "        np.random.shuffle(interval)\n",
    "        \n",
    "        e1 = math.floor(self.trainFrac * nSamples)\n",
    "        e2 = math.floor(self.trainFrac * nSamples) + math.floor(self.valFrac * nSamples) \n",
    "        \n",
    "        trainIdx, valIdx, testIdx = interval[:e1], interval[e1:e2], interval[e2:]\n",
    "        \n",
    "        # Check if no lost examples\n",
    "        if nSamples != len(trainSamples) + len(valSamples) + len(testSamples):\n",
    "            print('ERROR')\n",
    "        \n",
    "        return trainIdx, valIdx, testIdx\n",
    "    \n",
    "    #def stochasticGradientDescentPass(self, R, U, V, alpha, lambdaReg, muReg, nFactors):\n",
    "    #    for i in range(R.shape[0]):\n",
    "    #        for j in range(R.shape[1]):\n",
    "    #            if R[i, j] > 0:\n",
    "    #                r_hat_ij = np.dot(U[i, :], V.T[:, j])\n",
    "    #                eij = R[i, j] - r_hat_ij\n",
    "    #                for q in range(nFactors):\n",
    "    #                    U[i, q] = U[i, q] + alpha * (eij * V[j, q] - lambdaReg * U[i, q])\n",
    "    #                    V[j, q] = V[j, q] + alpha * (eij * U[i, q] - muReg * V[j, q])\n",
    "    #    return U, V\n",
    "\n",
    "    def stochasticGradientDescentPass(self, trainSamples):\n",
    "        for s in trainSamples:\n",
    "            i, j, _ = s\n",
    "            r_hat_ij = np.dot(self.U[i, :], self.V.T[:, j])\n",
    "            eij = self.R[i, j] - r_hat_ij\n",
    "            tmpU = np.zeros(self.nFactors)\n",
    "            tmpV = np.zeros(self.nFactors)\n",
    "            for q in range(self.nFactors):\n",
    "                tmpU[q] = self.U[i, q] + self.alpha * (eij * self.V[j, q] - self.lambdaReg * self.U[i, q])\n",
    "                tmpV[q] = self.V[j, q] + self.alpha * (eij * self.U[i, q] - self.muReg * self.V[j, q])\n",
    "            \n",
    "            self.U[i, :] = tmpU[:]\n",
    "            self.V[j, :] = tmpV[:]\n",
    "            \n",
    "        return self.U, self.V\n",
    "\n",
    "    def gridSearch(self, factors, alphas, lambdaRegs, muRegs):\n",
    "        lowest_error = math.inf\n",
    "        best_config = None\n",
    "        bestSolution = (None, None)\n",
    "        for config in itertools.product(factors, alphas, lambdaRegs, muRegs):\n",
    "            self.nFactors, self.alpha, self.lambdaReg, self.muReg = config\n",
    "            U, V, history = self.stochasticGradientDescent(False)\n",
    "            if history['valError'] < lowest_error:\n",
    "                lowest_error = history['valError']\n",
    "                best_config = config\n",
    "                bestSolution = (U, V)\n",
    "                \n",
    "        self.U, self.V = bestSolution    # Just for consistency \n",
    "        \n",
    "        return U, V, best_config\n",
    "            \n",
    "            \n",
    "    def stochasticGradientDescent(self, logging=True):\n",
    "        history = {'trainErrors':[], 'valErrors':[]}\n",
    "        self.randomInit(mean = self.mean, sd = self.sd)\n",
    "        #self.NonRandomInit()\n",
    "        trainSamples, valSamples, testSamples = self.splitTrainValTest()  # This should probably be outside ?\n",
    "        for i in range(self.maxIter):\n",
    "            # I think we should shuffle the data here. \n",
    "            np.random.shuffle(trainSamples)\n",
    "            U, V = self.stochasticGradientDescentPass(trainSamples)\n",
    "            trainError = self.computeTotalErrorSamples(trainSamples)\n",
    "            \n",
    "            if logging:\n",
    "                valError = self.computeTotalErrorSamples(valSamples)\n",
    "                history['trainErrors'].append(trainError)\n",
    "                history['valErrors'].append(valError)\n",
    "            if trainError < self.epsilon:\n",
    "                break\n",
    "        \n",
    "        history['trainError'] = self.computeTotalErrorSamples(trainSamples)\n",
    "        history['valError'] = self.computeTotalErrorSamples(valSamples)\n",
    "\n",
    "        return U, V, history\n",
    "\n",
    "\n",
    "    def computeTotalErrorSamples(self, data):\n",
    "        error = 0\n",
    "        if len(data) == 0:\n",
    "            return 0\n",
    "        for s in data:\n",
    "            i, j, r = s\n",
    "            error += (r - np.dot(self.U[i, :], self.V.T[:, j])) ** 2\n",
    "        return error / len(data)\n",
    "\n",
    "    def plotHistory(self, history): \n",
    "        plt.plot(history['trainErrors'], label='Training Error')\n",
    "        plt.plot(history['valErrors'], label='Validation Error')\n",
    "        plt.title('Evolution of the Loss')\n",
    "        plt.ylabel('Loss Func')\n",
    "        plt.xlabel('Iteration')\n",
    "        plt.legend()\n",
    "        plt.show()\n",
    "        \n",
    "    def computeApproximatedMatrix(self, U, V):\n",
    "        return np.dot(U, V.T)\n",
    "    \n",
    "    def alsIteration(self, R, fixedVectors, solveVectors, regParameter):\n",
    "        A = np.dot(fixedVectors.T,\n",
    "                   fixedVectors) + np.eye(self.nFactors) * regParameter\n",
    "        b = np.dot(R, fixedVectors)\n",
    "        A_inv = np.linalg.inv(A)\n",
    "        solveVectors = b.dot(A_inv)\n",
    "        return solveVectors\n",
    "    \n",
    "    def alsUserStep(self, i):\n",
    "        u = np.dot(\n",
    "            np.linalg.inv(sum([np.outer(self.V[j, :], self.V[j, :]) \n",
    "                            for j in range(self.nMovies) if self.R[i, j] > 0]) + \n",
    "                               self.lambdaReg * np.eye(self.nFactors)), \n",
    "            sum([self.R[i,j] * self.V[j, :] for j in range(self.nMovies) if self.R[i, j] > 0])\n",
    "        )\n",
    "        return u\n",
    "    \n",
    "    def alsMovieStep(self, j):\n",
    "        #try: \n",
    "        v = np.dot(\n",
    "        np.linalg.inv(sum([np.outer(self.U[i, :], self.U[i, :]) \n",
    "                            for i in range(self.nUsers) if self.R[i, j] > 0]) +\n",
    "                               self.muReg * np.eye(self.nFactors)), \n",
    "        sum([self.R[i,j] * self.U[i, :] for i in range(self.nUsers) if self.R[i, j] > 0])\n",
    "        )\n",
    "        #except :\n",
    "        #    break\n",
    "        return v\n",
    "    \n",
    "    def alsIterationNew(self):\n",
    "        tmpU = np.zeros((self.nUsers, self.nFactors))\n",
    "        tmpV = np.zeros((self.nMovies, self.nFactors))\n",
    "        for i in range(self.nUsers):\n",
    "            if any([self.R[i, j] > 0 for j in range(self.nMovies)]):\n",
    "                tmpU[i, :] = self.alsUserStep(i)\n",
    "        \n",
    "        self.U = tmpU\n",
    "        for j in range(self.nMovies):\n",
    "            if any([self.R[i, j] > 0 for i in range(self.nUsers)]):\n",
    "                tmpV[j, :] = self.alsMovieStep(j)\n",
    "            \n",
    "        self.V = tmpV\n",
    "        \n",
    "    def als(self, logging=True):\n",
    "        history = {'trainErrors': [], 'valErrors': []}\n",
    "        self.randomInit()\n",
    "        trainSamples, valSamples, testSamples = self.splitTrainValTest()\n",
    "        \n",
    "        for i in range(self.maxIter):\n",
    "            #np.random.shuffle(trainSamples)\n",
    "            self.alsIterationNew()\n",
    "            \n",
    "            trainError = self.computeTotalErrorSamples(trainSamples)\n",
    "            if logging:\n",
    "                valError = self.computeTotalErrorSamples(valSamples)\n",
    "                history['trainErrors'].append(trainError)\n",
    "                history['valErrors'].append(valError)\n",
    "            if trainError < self.epsilon:\n",
    "                break\n",
    "        history['trainError'] = self.computeTotalErrorSamples(trainSamples)\n",
    "        history['valError'] = self.computeTotalErrorSamples(valSamples)\n",
    "\n",
    "        return self.U, self.V, history\n",
    "\n",
    "    def alsFit(self, logging=True):\n",
    "        history = {'trainErrors': [], 'valErrors': []}\n",
    "        self.randomInit()\n",
    "        trainSamples, valSamples, testSamples = self.splitTrainValTest()\n",
    "        for i in range(self.maxIter):\n",
    "            np.random.shuffle(trainSamples)\n",
    "            self.U = self.alsIteration(self.R, self.V, self.U, self.lambdaReg)\n",
    "            self.V = self.alsIteration(self.R.T, self.U, self.V, self.muReg)\n",
    "            trainError = self.computeTotalErrorSamples(trainSamples)\n",
    "\n",
    "            if logging:\n",
    "                valError = self.computeTotalErrorSamples(valSamples)\n",
    "                history['trainErrors'].append(trainError)\n",
    "                history['valErrors'].append(valError)\n",
    "            if trainError < self.epsilon:\n",
    "                break\n",
    "        history['trainError'] = self.computeTotalErrorSamples(trainSamples)\n",
    "        history['valError'] = self.computeTotalErrorSamples(valSamples)\n",
    "\n",
    "        return self.U, self.V, history\n",
    "    \n",
    "# Generates a rank(k) matrix. Should add some noise..    \n",
    "def syntheticMatrix(m, n, k):\n",
    "    basis = np.random.randint(3, size=(m, k))\n",
    "    matrix = np.zeros((m, n))\n",
    "    coeffs = np.random.randint(3, size=k)\n",
    "    \n",
    "    for i in range(n):\n",
    "        coeffs = np.random.randint(4, size=k)\n",
    "        matrix[:, i] = sum([coeffs[j] * basis[:, j] for j in range(k)]) # TODO: + some small noise vector\n",
    "         \n",
    "    return matrix\n",
    "    "
   ]
  },
  {
   "cell_type": "code",
   "execution_count": 2,
   "metadata": {},
   "outputs": [
    {
     "name": "stdout",
     "output_type": "stream",
     "text": [
      "Ratings is a (100836, 3) Frame\n",
      "   userId  movieId  rating\n",
      "0       1        1     4.0\n",
      "1       1        3     4.0\n",
      "2       1        6     4.0\n",
      "3       1       47     5.0\n",
      "4       1       50     5.0\n",
      "\n",
      "\n",
      "              userId        movieId         rating\n",
      "count  100836.000000  100836.000000  100836.000000\n",
      "mean      326.127564   19435.295718       3.501557\n",
      "std       182.618491   35530.987199       1.042529\n",
      "min         1.000000       1.000000       0.500000\n",
      "25%       177.000000    1199.000000       3.000000\n",
      "50%       325.000000    2991.000000       3.500000\n",
      "75%       477.000000    8122.000000       4.000000\n",
      "max       610.000000  193609.000000       5.000000\n",
      "\n",
      "\n",
      "Movies is a (9742, 3) Frame\n",
      "   movieId                               title  \\\n",
      "0        1                    Toy Story (1995)   \n",
      "1        2                      Jumanji (1995)   \n",
      "2        3             Grumpier Old Men (1995)   \n",
      "3        4            Waiting to Exhale (1995)   \n",
      "4        5  Father of the Bride Part II (1995)   \n",
      "\n",
      "                                        genres  \n",
      "0  Adventure|Animation|Children|Comedy|Fantasy  \n",
      "1                   Adventure|Children|Fantasy  \n",
      "2                               Comedy|Romance  \n",
      "3                         Comedy|Drama|Romance  \n",
      "4                                       Comedy  \n",
      "There are 610 users in the dataset.\n",
      "There are 9742 movies in the dataset.\n"
     ]
    },
    {
     "data": {
      "image/png": "[encoded data removed]",
      "text/plain": [
       "<Figure size 432x288 with 1 Axes>"
      ]
     },
     "metadata": {
      "needs_background": "light"
     },
     "output_type": "display_data"
    }
   ],
   "source": [
    "ratings, movies = loadData('Data/')\n",
    "visualizeData(ratings, movies)"
   ]
  },
  {
   "cell_type": "code",
   "execution_count": 13,
   "metadata": {},
   "outputs": [
    {
     "name": "stdout",
     "output_type": "stream",
     "text": [
      "(1, 0.0001, 0.01, 0.01)\n"
     ]
    },
    {
     "data": {
      "image/png": "[encoded data removed]",
      "text/plain": [
       "<Figure size 432x288 with 1 Axes>"
      ]
     },
     "metadata": {
      "needs_background": "light"
     },
     "output_type": "display_data"
    }
   ],
   "source": [
    "\n",
    "mf = MatrixFactorization(R, nFactors=3, lambdaReg=1.0, muReg=1.0, trainFrac=1.0, valFrac=0.0, testFrac=0.0)\n",
    "U, V, best_config = mf.gridSearch(factors=[1, 3, 5, 10], alphas=[0.0001, 0.001, 0.01], lambdaRegs=[0.01, 0.1, 1.0], muRegs=[0.01, 0.1, 1.0])\n",
    "print(best_config)\n",
    "U, V, history = mf.stochasticGradientDescent(True)\n",
    "mf.plotHistory(history)"
   ]
  },
  {
   "cell_type": "code",
   "execution_count": 3,
   "metadata": {},
   "outputs": [],
   "source": [
    "#R = np.array([\n",
    "#    [5, 3, 0, 1],\n",
    "#    [4, 0, 0, 1],\n",
    "#    [1, 1, 0, 5],\n",
    "#    [1, 0, 0, 4],\n",
    "#    [0, 1, 5, 4],\n",
    "#])\n",
    "#R = syntheticMatrix(20, 8, 3)\n",
    "R = Df2Numpy(ratings)"
   ]
  },
  {
   "cell_type": "code",
   "execution_count": 4,
   "metadata": {},
   "outputs": [],
   "source": [
    "mf = MatrixFactorization(R, nFactors=2, lambdaReg=0.01, muReg=0.01, alpha=0.01, trainFrac=0.8, valFrac=0.2, testFrac=0.0, maxIter=10, mean = 1 , sd = 0.1)"
   ]
  },
  {
   "cell_type": "code",
   "execution_count": 5,
   "metadata": {},
   "outputs": [],
   "source": [
    "U, V, history = mf.stochasticGradientDescent(True)"
   ]
  },
  {
   "cell_type": "code",
   "execution_count": 6,
   "metadata": {},
   "outputs": [
    {
     "data": {
      "text/plain": [
       "array([[4.81927222, 4.29750233, 4.00456133, ..., 4.26102941, 3.88496064,\n",
       "        4.57508621],\n",
       "       [3.83802928, 3.42934645, 3.19640312, ..., 3.42152263, 3.10779497,\n",
       "        3.66855175],\n",
       "       [2.63139495, 2.34364648, 2.18354942, ..., 2.31488909, 2.1154787 ,\n",
       "        2.48765343],\n",
       "       ...,\n",
       "       [3.46093303, 3.10854136, 2.89931568, ..., 3.15147907, 2.83505678,\n",
       "        3.36697422],\n",
       "       [3.58819357, 3.19153051, 2.97300016, ..., 3.13903644, 2.8760228 ,\n",
       "        3.37654872],\n",
       "       [4.12735026, 3.68493494, 3.43428121, ..., 3.66745999, 3.33615815,\n",
       "        3.93442722]])"
      ]
     },
     "execution_count": 6,
     "metadata": {},
     "output_type": "execute_result"
    }
   ],
   "source": [
    "np.dot(U, V.T)"
   ]
  },
  {
   "cell_type": "code",
   "execution_count": 7,
   "metadata": {},
   "outputs": [
    {
     "data": {
      "image/png": "[encoded data removed]",
      "text/plain": [
       "<Figure size 432x288 with 1 Axes>"
      ]
     },
     "metadata": {
      "needs_background": "light"
     },
     "output_type": "display_data"
    },
    {
     "name": "stdout",
     "output_type": "stream",
     "text": [
      "Training error :  0.6427482578434012\n",
      "Validation error :  0.7808724381276979\n"
     ]
    }
   ],
   "source": [
    "mf.plotHistory(history)\n",
    "print(\"Training error : \", history['trainError'])\n",
    "print(\"Validation error : \", history['valError'])"
   ]
  },
  {
   "cell_type": "code",
   "execution_count": 46,
   "metadata": {},
   "outputs": [
    {
     "data": {
      "image/png": "[encoded data removed]",
      "text/plain": [
       "<Figure size 432x288 with 1 Axes>"
      ]
     },
     "metadata": {
      "needs_background": "light"
     },
     "output_type": "display_data"
    },
    {
     "name": "stdout",
     "output_type": "stream",
     "text": [
      "Training error :  0.46317413443683997\n",
      "Validation error :  1.4310504613955148\n"
     ]
    }
   ],
   "source": [
    "#R = syntheticMatrix(20, 8, 4)\n",
    "#print(R)\n",
    "\n",
    "R = Df2Numpy(ratings)\n",
    "mf = MatrixFactorization(R, nFactors=3, lambdaReg=0.1, muReg=0.1, alpha=0.01, trainFrac=0.8, valFrac=0.2, testFrac=0.0, maxIter=10)\n",
    "U, V, history = mf.als()\n",
    "\n",
    "mf.plotHistory(history)\n",
    "print(\"Training error : \", history['trainError'])\n",
    "print(\"Validation error : \", history['valError'])\n",
    "\n",
    "\n",
    "#print(np.dot(U, V.T))\n",
    "#print(R)"
   ]
  },
  {
   "cell_type": "code",
   "execution_count": 5,
   "metadata": {},
   "outputs": [
    {
     "data": {
      "text/plain": [
       "array([[ 0.02184672,  3.20573427],\n",
       "       [-1.24247981, -0.0930023 ]])"
      ]
     },
     "execution_count": 5,
     "metadata": {},
     "output_type": "execute_result"
    }
   ],
   "source": [
    "np.random.normal(size=(2,2))"
   ]
  },
  {
   "cell_type": "code",
   "execution_count": 2,
   "metadata": {},
   "outputs": [],
   "source": [
    "import numpy as np"
   ]
  },
  {
   "cell_type": "code",
   "execution_count": 15,
   "metadata": {},
   "outputs": [],
   "source": [
    "import progressbar"
   ]
  },
  {
   "cell_type": "code",
   "execution_count": 49,
   "metadata": {},
   "outputs": [],
   "source": [
    "def best_k_als(nb_k):\n",
    "    train_err=[]\n",
    "    val_err =[]\n",
    "    pb = progressbar.ProgressBar(max_value = nb_k)\n",
    "    pb.start()\n",
    "    for k in range(1,nb_k):\n",
    "        mf = MatrixFactorization(R, nFactors=k, lambdaReg=0.2, muReg=0.2, alpha=0.01,trainFrac=0.8, valFrac=0.2, testFrac=0.0,maxIter=5)\n",
    "        U, V, history = mf.als()\n",
    "        #mf.plotHistory(history)\n",
    "        train_err.append(history['trainError'])\n",
    "        val_err.append(history['valError'])\n",
    "        pb.update(pb.value+1)\n",
    "    print(train_err,val_err)\n",
    "    plt.plot(range(1,nb_k), train_err)\n",
    "    plt.plot(range(1,nb_k), val_err)"
   ]
  },
  {
   "cell_type": "code",
   "execution_count": null,
   "metadata": {},
   "outputs": [
    {
     "name": "stderr",
     "output_type": "stream",
     "text": [
      " 12% (1 of 8) |###                       | Elapsed Time: 0:01:08 ETA:   0:08:02"
     ]
    }
   ],
   "source": [
    "best_k_als(8)"
   ]
  },
  {
   "cell_type": "code",
   "execution_count": 9,
   "metadata": {},
   "outputs": [],
   "source": [
    "def best_initialization(mean, sd):\n",
    "    lowest_error = math.inf\n",
    "    best_init = None\n",
    "    bestUV = (None,None)\n",
    "    errors = []\n",
    "    for config in itertools.product(mean, sd):\n",
    "        mean, sd = config\n",
    "        R = Df2Numpy(ratings)\n",
    "        mf = MatrixFactorization(R, nFactors=3, lambdaReg=0.1, muReg=0.1, alpha=0.01, trainFrac=0.8, valFrac=0.2, testFrac=0.0, maxIter=20, mean = mean , sd=sd)\n",
    "        U, V, history = mf.stochasticGradientDescent(True)\n",
    "        print(history['valError'])\n",
    "        errors.append(history['valError'])\n",
    "        if history['valError'] < lowest_error:\n",
    "            lowest_error = history['valError']\n",
    "            best_init = config\n",
    "            bestUV = U,V\n",
    "    return U,V,lowest_error, best_init, errors"
   ]
  },
  {
   "cell_type": "code",
   "execution_count": 10,
   "metadata": {},
   "outputs": [
    {
     "name": "stdout",
     "output_type": "stream",
     "text": [
      "0.9631487925171779\n",
      "0.9630321422633399\n",
      "1.1158755792830108\n",
      "0.940296497104835\n",
      "0.830989479529239\n",
      "1.3030644680461727\n",
      "0.8454503087130266\n",
      "0.9426599370846404\n",
      "0.963614060873038\n",
      "0.9408950616032924\n",
      "0.9747777644150604\n"
     ]
    },
    {
     "data": {
      "text/plain": [
       "(array([[-0.75875471,  1.50267111,  0.42879332],\n",
       "        [-0.68666582,  1.08318966,  0.51019293],\n",
       "        [ 0.70928364,  0.14357716, -0.09662126],\n",
       "        ...,\n",
       "        [-0.53320586,  1.33371567,  0.12894532],\n",
       "        [-0.30831834,  1.38832222, -0.28236853],\n",
       "        [-0.89592191,  1.32583277,  0.21150807]]),\n",
       " array([[-0.60144897,  2.40093082,  0.5296771 ],\n",
       "        [-0.38641442,  2.20351042,  0.53528249],\n",
       "        [ 0.44099733,  2.4698122 ,  0.98327329],\n",
       "        ...,\n",
       "        [ 4.77050865,  4.15993136,  5.10048871],\n",
       "        [ 4.35801089,  4.69626706,  4.35718971],\n",
       "        [ 5.09099233,  4.59125381,  5.15157554]]),\n",
       " 0.830989479529239,\n",
       " (-1, 0.5),\n",
       " [0.9631487925171779,\n",
       "  0.9630321422633399,\n",
       "  1.1158755792830108,\n",
       "  0.940296497104835,\n",
       "  0.830989479529239,\n",
       "  1.3030644680461727,\n",
       "  0.8454503087130266,\n",
       "  0.9426599370846404,\n",
       "  0.963614060873038,\n",
       "  0.9408950616032924,\n",
       "  0.9747777644150604])"
      ]
     },
     "execution_count": 10,
     "metadata": {},
     "output_type": "execute_result"
    }
   ],
   "source": [
    "best_initialization([-5,-4,-3,-2,-1,0,1,2,3,4,5],[0.5])"
   ]
  },
  {
   "cell_type": "code",
   "execution_count": 11,
   "metadata": {},
   "outputs": [],
   "source": [
    "def plot_best_init(mean):\n",
    "    d = best_initialization([mean],[0.01,0.1,0.2,0.3,0.4,0.5,0.7,1])[4]\n",
    "    plt.plot([0.01,0.1,0.2,0.3,0.4,0.5,0.7,1], d)"
   ]
  },
  {
   "cell_type": "code",
   "execution_count": 12,
   "metadata": {
    "scrolled": true
   },
   "outputs": [
    {
     "name": "stdout",
     "output_type": "stream",
     "text": [
      "1.3038971360708613\n",
      "1.2881866534904511\n",
      "1.2653296105630594\n",
      "1.2900424205260166\n",
      "1.2853669346546002\n",
      "1.3130558413781177\n",
      "1.3902038440286244\n",
      "1.3777419367623698\n",
      "1.553253333701934\n",
      "0.7965601837801548\n",
      "0.7583817497192697\n",
      "0.7941108933672483\n",
      "0.7939352891596162\n",
      "0.789199116439738\n",
      "0.8165396488542207\n",
      "0.8256347708148554\n",
      "0.8677474153570971\n",
      "0.9539380240472118\n",
      "0.9135791007073479\n",
      "0.8988738125259361\n",
      "0.8608196568294617\n",
      "0.8796564091591623\n",
      "0.9112109711920243\n",
      "0.9146593427768758\n",
      "0.9318088220719114\n",
      "0.9566956239889924\n",
      "0.9940529383599439\n",
      "1.1230977579953834\n",
      "0.9928891769867038\n",
      "0.8969588973811173\n",
      "0.9269991760673241\n",
      "0.9699705390953467\n",
      "0.9339994881039059\n",
      "1.0494341044531248\n",
      "1.1827228229672355\n",
      "1.202379240213736\n"
     ]
    },
    {
     "data": {
      "image/png": "[encoded data removed]",
      "text/plain": [
       "<Figure size 432x288 with 1 Axes>"
      ]
     },
     "metadata": {
      "needs_background": "light"
     },
     "output_type": "display_data"
    }
   ],
   "source": [
    "plt.xlabel(\"Standard Deviation\")\n",
    "plt.ylabel(\"Validation Error\")\n",
    "d = best_initialization([0],[0.001,0.01,0.1,0.2,0.3,0.4,0.5,0.7,1])[4]\n",
    "plt.plot([0.001,0.01,0.1,0.2,0.3,0.4,0.5,0.7,1], d, label=\"Mean = 0\")\n",
    "d = best_initialization([1],[0.001,0.01,0.1,0.2,0.3,0.4,0.5,0.7,1])[4]\n",
    "plt.plot([0.001,0.01,0.1,0.2,0.3,0.4,0.5,0.7,1], d, label=\"Mean = 1\")\n",
    "d = best_initialization([2],[0.001,0.01,0.1,0.2,0.3,0.4,0.5,0.7,1])[4]\n",
    "plt.plot([0.001,0.01,0.1,0.2,0.3,0.4,0.5,0.7,1], d, label=\"Mean = 2\")\n",
    "d = best_initialization([3],[0.001,0.01,0.1,0.2,0.3,0.4,0.5,0.7,1])[4]\n",
    "plt.plot([0.001,0.01,0.1,0.2,0.3,0.4,0.5,0.7,1], d,label=\"Mean = 3\")\n",
    "plt.legend()\n",
    "plt.show()"
   ]
  },
  {
   "cell_type": "code",
   "execution_count": null,
   "metadata": {},
   "outputs": [],
   "source": []
  }
 ],
 "metadata": {
  "kernelspec": {
   "display_name": "Python 3",
   "language": "python",
   "name": "python3"
  },
  "language_info": {
   "codemirror_mode": {
    "name": "ipython",
    "version": 3
   },
   "file_extension": ".py",
   "mimetype": "text/x-python",
   "name": "python",
   "nbconvert_exporter": "python",
   "pygments_lexer": "ipython3",
   "version": "3.7.3"
  }
 },
 "nbformat": 4,
 "nbformat_minor": 2
}
